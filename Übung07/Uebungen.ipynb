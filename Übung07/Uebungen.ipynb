{
 "cells": [
  {
   "cell_type": "markdown",
   "metadata": {
    "collapsed": true,
    "pycharm": {
     "name": "#%% md\n"
    }
   },
   "source": [
    "# Aufgabenblatt 7\n",
    "Woche 8"
   ]
  },
  {
   "cell_type": "code",
   "execution_count": 2,
   "outputs": [],
   "source": [
    "from math import e, pi"
   ],
   "metadata": {
    "collapsed": false,
    "pycharm": {
     "name": "#%%\n"
    }
   }
  },
  {
   "cell_type": "markdown",
   "source": [
    "#### Aufgabe 31\n",
    "Für eine eingegebene positive ganze Zahl n (Integer) soll die Summe von i=1 bis n berechnet werden und\n",
    "zurückgegeben werden. Schreiben Sie eine Python-Funktion dafür."
   ],
   "metadata": {
    "collapsed": false,
    "pycharm": {
     "name": "#%% md\n"
    }
   }
  },
  {
   "cell_type": "code",
   "execution_count": 23,
   "outputs": [
    {
     "name": "stdout",
     "output_type": "stream",
     "text": [
      "Die eingegebene Zahl ist: \n",
      "151 und summiert ergibt das: 11476\n"
     ]
    }
   ],
   "source": [
    "# Range: gibt die Werte von 0 bis und mit angegebener Zahl als Liste aus\n",
    "# Liste: ich stelle sicher, dass die Funktion sum eine Liste erhält\n",
    "# Sum: Ich Summiere alle Werte in der erstellen Liste zusammen\n",
    "def summieren(value) -> int:\n",
    "    return sum(list(range(value+1)))\n",
    "\n",
    "\n",
    "value = int(input(\"Eine Ganzzahl zum summieren geben: \"))\n",
    "print(f\"Die eingegebene Zahl ist: \\n{value} und summiert ergibt das: {summieren(value)}\")"
   ],
   "metadata": {
    "collapsed": false,
    "pycharm": {
     "name": "#%%\n"
    }
   }
  },
  {
   "cell_type": "markdown",
   "source": [
    "#### Aufgabe 32\n",
    "Schreiben Sie eine Python-Funktion, die für eine positive ganze Zahl n die Fakultät von n berechnet\n",
    "(mathematisch ausgedrückt n!), also das Produkt der Zahlen von k=1 bis n. (2 P.)\n",
    "Schreiben Sie eine weitere Funktion für die Fakultät von n, die die sogenannte Stirling-Formel\n",
    "verwendet. Die Konstante e ist hierbei die Eulersche Zahl, die Zahl pi sollte allen als Kreiszahl bekannt sein.\n",
    "Diese Konstanten kann als Python-Konstanten im Internet finden. (3 P.)\n",
    "Vergleichen Sie die beiden Funktionen für die Werte zwischen 1 und 100, also bilden Sie die Differenz\n",
    "dieser Funktionswerte. Was passiert mit der Differenz für grösser werdende n? (2 P.)"
   ],
   "metadata": {
    "collapsed": false
   }
  },
  {
   "cell_type": "code",
   "execution_count": 8,
   "outputs": [
    {
     "name": "stdout",
     "output_type": "stream",
     "text": [
      "Fakultät von 9 nach mir berechnet: 362880\n",
      "Fakultät von 9 nach Stirling: 359536.87284194835\n",
      "Fakultät von 1 | Differenz: 0.07786299110421091 | realtive Differenz: 8.443755141922757\n",
      "Fakultät von 2 | Differenz: 0.08099564851101682 | realtive Differenz: 4.220712081667304\n",
      "Fakultät von 3 | Differenz: 0.16379040865413597 | realtive Differenz: 2.80645179187893\n",
      "Fakultät von 4 | Differenz: 0.4938248671067065 | realtive Differenz: 2.1008303746349366\n",
      "Fakultät von 5 | Differenz: 1.9808320424099009 | realtive Differenz: 1.6783985827808139\n",
      "Fakultät von 6 | Differenz: 9.921815357815035 | realtive Differenz: 1.397284914873808\n",
      "Fakultät von 7 | Differenz: 59.604168387538266 | realtive Differenz: 1.1967757263229561\n",
      "Fakultät von 8 | Differenz: 417.6045473432896 | realtive Differenz: 1.046565106194609\n",
      "Fakultät von 9 | Differenz: 3343.1271580516477 | realtive Differenz: 0.9298426421818714\n",
      "Fakultät von 10 | Differenz: 30104.381258962676 | realtive Differenz: 0.8365359132399852\n",
      "Fakultät von 11 | Differenz: 301174.9494224489 | realtive Differenz: 0.7602428310494576\n",
      "Fakultät von 12 | Differenz: 3314113.5272239447 | realtive Differenz: 0.6966997496188317\n",
      "Fakultät von 13 | Differenz: 39781324.80727959 | realtive Differenz: 0.642957573676918\n",
      "Fakultät von 14 | Differenz: 517289459.4011688 | realtive Differenz: 0.596911469993809\n",
      "Fakultät von 15 | Differenz: 7243645800.531982 | realtive Differenz: 0.5570189689367326\n",
      "Fakultät von 16 | Differenz: 108675472776.86328 | realtive Differenz: 0.5221239328701857\n",
      "Fakultät von 17 | Differenz: 1739099429898.875 | realtive Differenz: 0.49134274385554816\n",
      "Fakultät von 18 | Differenz: 29569079533687.0 | realtive Differenz: 0.4639884833774506\n",
      "Fakultät von 19 | Differenz: 532313816537808.0 | realtive Differenz: 0.4395190892021607\n",
      "Fakultät von 20 | Differenz: 1.0115161415504896e+16 | realtive Differenz: 0.41750108677646125\n",
      "Fakultät von 21 | Differenz: 2.023248461996933e+17 | realtive Differenz: 0.3975836971665385\n",
      "Fakultät von 22 | Differenz: 4.249233149369909e+18 | realtive Differenz: 0.37948001585661406\n",
      "Fakultät von 23 | Differenz: 9.349136835566738e+19 | realtive Differenz: 0.36295310779953327\n",
      "Fakultät von 24 | Differenz: 2.1504747104446102e+21 | realtive Differenz: 0.3478055831109601\n",
      "Fakultät von 25 | Differenz: 5.1615208639804696e+22 | realtive Differenz: 0.3338716776974043\n",
      "Fakultät von 26 | Differenz: 1.2904680656503196e+24 | realtive Differenz: 0.3210111636352715\n",
      "Fakultät von 27 | Differenz: 3.3554280098820443e+25 | realtive Differenz: 0.30910461439723225\n",
      "Fakultät von 28 | Differenz: 9.060183683720097e+26 | realtive Differenz: 0.2980496858382254\n",
      "Fakultät von 29 | Differenz: 2.536988836221194e+28 | realtive Differenz: 0.2877581675018489\n",
      "Fakultät von 30 | Differenz: 7.357638892259114e+29 | realtive Differenz: 0.2781536243087239\n",
      "Fakultät von 31 | Differenz: 2.207395693679997e+31 | realtive Differenz: 0.2691694951841019\n",
      "Fakultät von 32 | Differenz: 6.843228517604909e+32 | realtive Differenz: 0.2607475485640676\n",
      "Fakultät von 33 | Differenz: 2.1899237393927507e+34 | realtive Differenz: 0.25283661901045806\n",
      "Fakultät von 34 | Differenz: 7.227029397798105e+35 | realtive Differenz: 0.2453915669956693\n",
      "Fakultät von 35 | Differenz: 2.4572799802112095e+37 | realtive Differenz: 0.23837241718687313\n",
      "Fakultät von 36 | Differenz: 8.600777024854171e+38 | realtive Differenz: 0.23174364048499368\n",
      "Fakultät von 37 | Differenz: 3.096380786869804e+40 | realtive Differenz: 0.22547355260320018\n",
      "Fakultät von 38 | Differenz: 1.145696276543645e+42 | realtive Differenz: 0.2195338076899562\n",
      "Fakultät von 39 | Differenz: 4.3537732896751484e+43 | realtive Differenz: 0.21389896992867904\n",
      "Fakultät von 40 | Differenz: 1.6980187532740437e+45 | realtive Differenz: 0.2085461494516438\n",
      "Fakultät von 41 | Differenz: 6.792254324739237e+46 | realtive Differenz: 0.20345469158521137\n",
      "Fakultät von 42 | Differenz: 2.7848942285123893e+48 | realtive Differenz: 0.1986059105219351\n",
      "Fakultät von 43 | Differenz: 1.1696835671671317e+50 | realtive Differenz: 0.19398286018824923\n",
      "Fakultät von 44 | Differenz: 5.029754137893471e+51 | realtive Differenz: 0.18957013637981224\n",
      "Fakultät von 45 | Differenz: 2.2131400503657466e+53 | realtive Differenz: 0.18535370530748782\n",
      "Fakultät von 46 | Differenz: 9.959337671863352e+54 | realtive Differenz: 0.18132075451124594\n",
      "Fakultät von 47 | Differenz: 4.581386629107257e+56 | realtive Differenz: 0.17745956283642542\n",
      "Fakultät von 48 | Differenz: 2.153292811076523e+58 | realtive Differenz: 0.1737593866640319\n",
      "Fakultät von 49 | Differenz: 1.0335994577572343e+60 | realtive Differenz: 0.17021036008691728\n",
      "Fakultät von 50 | Differenz: 5.06472623316955e+61 | realtive Differenz: 0.16680340707312644\n",
      "Fakultät von 51 | Differenz: 2.5324057932744567e+63 | realtive Differenz: 0.1635301639700199\n",
      "Fakultät von 52 | Differenz: 1.2915478705673141e+65 | realtive Differenz: 0.1603829109568725\n",
      "Fakultät von 53 | Differenz: 6.716153528166666e+66 | realtive Differenz: 0.1573545112637087\n",
      "Fakultät von 54 | Differenz: 3.5596147268992157e+68 | realtive Differenz: 0.15443835714366047\n",
      "Fakultät von 55 | Differenz: 1.922219703330662e+70 | realtive Differenz: 0.15162832175243698\n",
      "Fakultät von 56 | Differenz: 1.0572355473975957e+72 | realtive Differenz: 0.14891871617786545\n",
      "Fakultät von 57 | Differenz: 5.920598516191225e+73 | realtive Differenz: 0.14630425100016567\n",
      "Fakultät von 58 | Differenz: 3.3747848594081978e+75 | realtive Differenz: 0.14378000183029901\n",
      "Fakultät von 59 | Differenz: 1.957399697273738e+77 | realtive Differenz: 0.1413413783552899\n",
      "Fakultät von 60 | Differenz: 1.154879776468945e+79 | realtive Differenz: 0.1389840964806757\n",
      "Fakultät von 61 | Differenz: 6.929359610350212e+80 | realtive Differenz: 0.1367041532160121\n",
      "Fakultät von 62 | Differenz: 4.226957130548589e+82 | realtive Differenz: 0.1344978039874092\n",
      "Fakultät von 63 | Differenz: 2.6207420858539175e+84 | realtive Differenz: 0.13236154212126622\n",
      "Fakultät von 64 | Differenz: 1.651085002028168e+86 | realtive Differenz: 0.13029208024369118\n",
      "Fakultät von 65 | Differenz: 1.0567052452250134e+88 | realtive Differenz: 0.128286333401986\n",
      "Fakultät von 66 | Differenz: 6.868652419259236e+89 | realtive Differenz: 0.12634140372092287\n",
      "Fakultät von 67 | Differenz: 4.533354330204808e+91 | realtive Differenz: 0.12445456643377723\n",
      "Fakultät von 68 | Differenz: 3.03737583134563e+93 | realtive Differenz: 0.12262325714629393\n",
      "Fakultät von 69 | Differenz: 2.065434331320966e+95 | realtive Differenz: 0.12084506020918612\n",
      "Fakultät von 70 | Differenz: 1.425162263233493e+97 | realtive Differenz: 0.11911769808854596\n",
      "Fakultät von 71 | Differenz: 9.976221359131654e+98 | realtive Differenz: 0.11743902163028437\n",
      "Fakultät von 72 | Differenz: 7.083176177490012e+100 | realtive Differenz: 0.11580700114567817\n",
      "Fakultät von 73 | Differenz: 5.099928160707593e+102 | realtive Differenz: 0.11421971822075554\n",
      "Fakultät von 74 | Differenz: 3.722976892353866e+104 | realtive Differenz: 0.11267535819471602\n",
      "Fakultät von 75 | Differenz: 2.7550240235765102e+106 | realtive Differenz: 0.1111722032395595\n",
      "Fakultät von 76 | Differenz: 2.0662834390668288e+108 | realtive Differenz: 0.10970862598600804\n",
      "Fakultät von 77 | Differenz: 1.5703868265399067e+110 | realtive Differenz: 0.10828308364686019\n",
      "Fakultät von 78 | Differenz: 1.209206416831042e+112 | realtive Differenz: 0.10689411259315529\n",
      "Fakultät von 79 | Differenz: 9.431875115733116e+113 | realtive Differenz: 0.10554032333791458\n",
      "Fakultät von 80 | Differenz: 7.451231445200529e+115 | realtive Differenz: 0.10422039590562954\n",
      "Fakultät von 81 | Differenz: 5.961024240248443e+117 | realtive Differenz: 0.1029330755356439\n",
      "Fakultät von 82 | Differenz: 4.8284605134542015e+119 | realtive Differenz: 0.10167716870474271\n",
      "Fakultät von 83 | Differenz: 3.9593623260006436e+121 | realtive Differenz: 0.10045153943620755\n",
      "Fakultät von 84 | Differenz: 3.286290743096256e+123 | realtive Differenz: 0.09925510587313023\n",
      "Fakultät von 85 | Differenz: 2.760500635656449e+125 | realtive Differenz: 0.0980868370931864\n",
      "Fakultät von 86 | Differenz: 2.3464391628040286e+127 | realtive Differenz: 0.0969457501469619\n",
      "Fakultät von 87 | Differenz: 2.0179491236801878e+129 | realtive Differenz: 0.09583090729597259\n",
      "Fakultät von 88 | Differenz: 1.7556254653578644e+131 | realtive Differenz: 0.09474141344719222\n",
      "Fakultät von 89 | Differenz: 1.5449587759671799e+133 | realtive Differenz: 0.09367641375744054\n",
      "Fakultät von 90 | Differenz: 1.3750205898930589e+135 | realtive Differenz: 0.0926350913886282\n",
      "Fakultät von 91 | Differenz: 1.2375249370487824e+137 | realtive Differenz: 0.09161666542321568\n",
      "Fakultät von 92 | Differenz: 1.126153394557097e+139 | realtive Differenz: 0.09062038891706216\n",
      "Fakultät von 93 | Differenz: 1.036066254936538e+141 | realtive Differenz: 0.08964554705875967\n",
      "Fakultät von 94 | Differenz: 9.635462874541479e+142 | realtive Differenz: 0.08869145547492935\n",
      "Fakultät von 95 | Differenz: 9.057378071682072e+144 | realtive Differenz: 0.08775745861248217\n",
      "Fakultät von 96 | Differenz: 8.604549132261527e+146 | realtive Differenz: 0.08684292825181757\n",
      "Fakultät von 97 | Differenz: 8.260404735165614e+148 | realtive Differenz: 0.08594726208253321\n",
      "Fakultät von 98 | Differenz: 8.012628284988425e+150 | realtive Differenz: 0.08506988239581482\n",
      "Fakultät von 99 | Differenz: 7.852409985292958e+152 | realtive Differenz: 0.08421023482840938\n",
      "Fakultät von 100 | Differenz: 7.773919124995513e+154 | realtive Differenz: 0.08336778720039303\n"
     ]
    }
   ],
   "source": [
    "def fakultaet(value) -> int:\n",
    "    return 1 if (value == 1 or value == 0) else value * fakultaet(value - 1)\n",
    "\n",
    "def stirling(value) -> int:\n",
    "    return (2*pi*value)**0.5*(value/e)**value\n",
    "\n",
    "value = int(input(\"Eine positive ganze Zahl eingeben: \"))\n",
    "fakultaetResult = fakultaet(value=value)\n",
    "strilingResultat = stirling(value=value)\n",
    "print(f\"Fakultät von {value} nach mir berechnet: {fakultaetResult}\")\n",
    "print(f\"Fakultät von {value} nach Stirling: {strilingResultat}\")\n",
    "\n",
    "differenz = []\n",
    "relDifferenz = []\n",
    "for i in range(1, 101):\n",
    "    resFak = fakultaet(i)\n",
    "    resSti = stirling(i)\n",
    "    diff = resFak-resSti\n",
    "    relDiff = (resFak-resSti)/resSti*100\n",
    "    differenz.append(diff)\n",
    "    relDifferenz.append(relDiff)\n",
    "    print(f\"Fakultät von {i} | Differenz: {diff} | realtive Differenz: {relDiff}\")"
   ],
   "metadata": {
    "collapsed": false,
    "pycharm": {
     "name": "#%%\n"
    }
   }
  },
  {
   "cell_type": "markdown",
   "source": [
    "#### Aufgabe 33\n",
    "Schreiben Sie eine Python-Funktion, die als Parameter einen String bekommt und sowohl die Länge des\n",
    "Strings, als auch die Anzahl der Kleinbuchstaben, als auch die Anzahl der Grossbuchstaben darin\n",
    "zurückliefert. (3 P.)"
   ],
   "metadata": {
    "collapsed": false
   }
  },
  {
   "cell_type": "code",
   "execution_count": 11,
   "outputs": [
    {
     "name": "stdout",
     "output_type": "stream",
     "text": [
      "Der String \"Alex1\" ist 5 Zeichen lang. \n",
      "Besitzt 3 Kleinbuchstaben und 1 Grossbuchstaben\n"
     ]
    }
   ],
   "source": [
    "def auswertenString(string):\n",
    "    return len(string), sum(map(str.islower, string)), sum(1 for c in string if c.isupper())\n",
    "\n",
    "text = input(\"Irgendeinen String eingeben: \")\n",
    "leange, anzKlein, anzGross = auswertenString(string=text)\n",
    "\n",
    "print(f\"Der String \\\"{text}\\\" ist {leange} Zeichen lang. \\nBesitzt {anzKlein} Kleinbuchstaben und {anzGross} Grossbuchstaben\")"
   ],
   "metadata": {
    "collapsed": false,
    "pycharm": {
     "name": "#%%\n"
    }
   }
  },
  {
   "cell_type": "markdown",
   "source": [
    "#### Aufgabe 34\n",
    "Schreiben Sie eine Funktion, die eine gegebene Liste (Integers, Floats oder Strings) in aufsteigender und\n",
    "absteigender Reihenfolge sortiert, die beiden Listen zusammenfügt und die neue Liste zurückliefert. (4 P.)"
   ],
   "metadata": {
    "collapsed": false
   }
  },
  {
   "cell_type": "code",
   "execution_count": 15,
   "outputs": [
    {
     "name": "stdout",
     "output_type": "stream",
     "text": [
      "[1, 3, 3, 7, 8, 67, 67, 8, 7, 3, 3, 1]\n"
     ]
    }
   ],
   "source": [
    "def sortingLists(list) -> list:\n",
    "    return sorted(list) + sorted(list)[::-1]\n",
    "\n",
    "testList = [3,67,1,8,3,7]\n",
    "print(sortingLists(list=testList))"
   ],
   "metadata": {
    "collapsed": false,
    "pycharm": {
     "name": "#%%\n"
    }
   }
  },
  {
   "cell_type": "markdown",
   "source": [
    "#### Aufgabe 35\n",
    "Schreiben Sie eine Python-Funktion, die von einer gegebenen ganzen positiven Zahl n testet, ob diese eine\n",
    "Primzahl ist. Ist dies der Fall, soll die Funktion True zurückliefern, ansonsten False. (2 P.) Schreiben Sie eine\n",
    "weitere Funktion primNumbers, die für eine eingegebene ganze positive Zahl m die Anzahl der Primzahlen\n",
    "kleiner m zählt und diese Anzahl zurückliefert. Wieviele Primzahlen kleiner 10000 gibt es?"
   ],
   "metadata": {
    "collapsed": false
   }
  },
  {
   "cell_type": "code",
   "execution_count": 22,
   "outputs": [
    {
     "name": "stdout",
     "output_type": "stream",
     "text": [
      "Es gibt 25 Primzahlen kleiner als 97\n"
     ]
    }
   ],
   "source": [
    "def isPrime(number) -> bool:\n",
    "    if number == 2 or number == 3: return True\n",
    "    if number % 2 == 0 or number < 2: return False\n",
    "    for i in range(3, int(number ** 0.5) + 1, 2):\n",
    "        if number % i == 0:\n",
    "            return False\n",
    "    return True\n",
    "\n",
    "def primNumbers(number) -> int:\n",
    "    return len([i for i in range(number+1) if isPrime(i)])\n",
    "\n",
    "nummern = 97\n",
    "anz_Zahlen = primNumbers(nummern)\n",
    "print(f\"Es gibt {anz_Zahlen} Primzahlen kleiner als {nummern}\")"
   ],
   "metadata": {
    "collapsed": false,
    "pycharm": {
     "name": "#%%\n"
    }
   }
  }
 ],
 "metadata": {
  "kernelspec": {
   "display_name": "Python 3",
   "language": "python",
   "name": "python3"
  },
  "language_info": {
   "codemirror_mode": {
    "name": "ipython",
    "version": 2
   },
   "file_extension": ".py",
   "mimetype": "text/x-python",
   "name": "python",
   "nbconvert_exporter": "python",
   "pygments_lexer": "ipython2",
   "version": "2.7.6"
  }
 },
 "nbformat": 4,
 "nbformat_minor": 0
}