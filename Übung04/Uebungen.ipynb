{
 "cells": [
  {
   "cell_type": "markdown",
   "metadata": {
    "collapsed": true,
    "pycharm": {
     "name": "#%% md\n"
    }
   },
   "source": [
    "# Aufgabenblatt 4\n",
    "Woche 4"
   ]
  },
  {
   "cell_type": "code",
   "execution_count": 1,
   "outputs": [],
   "source": [
    "import random"
   ],
   "metadata": {
    "collapsed": false,
    "pycharm": {
     "name": "#%%\n"
    }
   }
  },
  {
   "cell_type": "markdown",
   "source": [
    "#### Aufgabe 16\n",
    "Implementieren Sie Python-Code für eine Schleife,\n",
    "die für jede 3er-Potenz die letzten 3 Ziffern der zugehörigen Dezimalzahl ausgibt.\n",
    "<br>Die Anzahl der Schleifendurchläufe soll hierbei durch eine Nutzereingabe festgelegt werden. (2 P.)\n",
    "<br>Was ist die kleinste Dreierpotenz grösser 3, die auf „001“ endet? (1 P.)\n",
    "<br>Können Sie das gleiche Problem auch für 7er-Potenzen lösen? (1 P.)"
   ],
   "metadata": {
    "collapsed": false
   }
  },
  {
   "cell_type": "code",
   "source": [
    "num = 3\n",
    "anzLoops = int(input(\"Wie oft soll die Zahl \" + str(num) + \" hoch gerechnet werden?\"))\n",
    "index = 1\n",
    "\n",
    "result = basis = num\n",
    "exponent = firstToEnd = 1\n",
    "\n",
    "# Teil 1\n",
    "# Durchläufe bis Eingabe\n",
    "while index <= anzLoops:\n",
    "    result = basis ** exponent\n",
    "    print(str(index) + \". Durchlauf: [\" + \"letzte drei Stellen: \" + str(result % 1000) + \"]\")\n",
    "    if str(result).endswith(\"001\"):\n",
    "        firstToEnd = exponent\n",
    "    exponent += 1\n",
    "    index += 1\n",
    "\n",
    "# Teil 2\n",
    "if firstToEnd != 1:\n",
    "    print(\"Dieser Exponent zur Basis \" + str(basis) + \" endet mit 001: \" + str(firstToEnd))\n",
    "else:\n",
    "    print(\"Die eingegebene Anzahl an Loops ist zu klein.\\U0001F612\") # Der Code ist ein \"Lätsch\"-Smiley\n",
    "\n",
    "# Teil 3:\n",
    "# 3 hoch 100 endet auf 001\n",
    "# 7 hoch  20 endet auf 001"
   ],
   "metadata": {
    "collapsed": false,
    "pycharm": {
     "name": "#%%\n"
    }
   },
   "execution_count": 2,
   "outputs": [
    {
     "name": "stdout",
     "output_type": "stream",
     "text": [
      "1. Durchlauf: [letzte drei Stellen: 3]\n",
      "2. Durchlauf: [letzte drei Stellen: 9]\n",
      "3. Durchlauf: [letzte drei Stellen: 27]\n",
      "4. Durchlauf: [letzte drei Stellen: 81]\n",
      "5. Durchlauf: [letzte drei Stellen: 243]\n",
      "6. Durchlauf: [letzte drei Stellen: 729]\n",
      "7. Durchlauf: [letzte drei Stellen: 187]\n",
      "8. Durchlauf: [letzte drei Stellen: 561]\n",
      "9. Durchlauf: [letzte drei Stellen: 683]\n",
      "10. Durchlauf: [letzte drei Stellen: 49]\n",
      "11. Durchlauf: [letzte drei Stellen: 147]\n",
      "12. Durchlauf: [letzte drei Stellen: 441]\n",
      "13. Durchlauf: [letzte drei Stellen: 323]\n",
      "14. Durchlauf: [letzte drei Stellen: 969]\n",
      "15. Durchlauf: [letzte drei Stellen: 907]\n",
      "16. Durchlauf: [letzte drei Stellen: 721]\n",
      "17. Durchlauf: [letzte drei Stellen: 163]\n",
      "18. Durchlauf: [letzte drei Stellen: 489]\n",
      "19. Durchlauf: [letzte drei Stellen: 467]\n",
      "20. Durchlauf: [letzte drei Stellen: 401]\n",
      "21. Durchlauf: [letzte drei Stellen: 203]\n",
      "22. Durchlauf: [letzte drei Stellen: 609]\n",
      "23. Durchlauf: [letzte drei Stellen: 827]\n",
      "24. Durchlauf: [letzte drei Stellen: 481]\n",
      "25. Durchlauf: [letzte drei Stellen: 443]\n",
      "26. Durchlauf: [letzte drei Stellen: 329]\n",
      "27. Durchlauf: [letzte drei Stellen: 987]\n",
      "28. Durchlauf: [letzte drei Stellen: 961]\n",
      "29. Durchlauf: [letzte drei Stellen: 883]\n",
      "30. Durchlauf: [letzte drei Stellen: 649]\n",
      "31. Durchlauf: [letzte drei Stellen: 947]\n",
      "32. Durchlauf: [letzte drei Stellen: 841]\n",
      "33. Durchlauf: [letzte drei Stellen: 523]\n",
      "34. Durchlauf: [letzte drei Stellen: 569]\n",
      "35. Durchlauf: [letzte drei Stellen: 707]\n",
      "36. Durchlauf: [letzte drei Stellen: 121]\n",
      "37. Durchlauf: [letzte drei Stellen: 363]\n",
      "38. Durchlauf: [letzte drei Stellen: 89]\n",
      "39. Durchlauf: [letzte drei Stellen: 267]\n",
      "40. Durchlauf: [letzte drei Stellen: 801]\n",
      "41. Durchlauf: [letzte drei Stellen: 403]\n",
      "42. Durchlauf: [letzte drei Stellen: 209]\n",
      "43. Durchlauf: [letzte drei Stellen: 627]\n",
      "44. Durchlauf: [letzte drei Stellen: 881]\n",
      "45. Durchlauf: [letzte drei Stellen: 643]\n",
      "46. Durchlauf: [letzte drei Stellen: 929]\n",
      "47. Durchlauf: [letzte drei Stellen: 787]\n",
      "48. Durchlauf: [letzte drei Stellen: 361]\n",
      "49. Durchlauf: [letzte drei Stellen: 83]\n",
      "50. Durchlauf: [letzte drei Stellen: 249]\n",
      "51. Durchlauf: [letzte drei Stellen: 747]\n",
      "52. Durchlauf: [letzte drei Stellen: 241]\n",
      "53. Durchlauf: [letzte drei Stellen: 723]\n",
      "54. Durchlauf: [letzte drei Stellen: 169]\n",
      "55. Durchlauf: [letzte drei Stellen: 507]\n",
      "56. Durchlauf: [letzte drei Stellen: 521]\n",
      "57. Durchlauf: [letzte drei Stellen: 563]\n",
      "58. Durchlauf: [letzte drei Stellen: 689]\n",
      "59. Durchlauf: [letzte drei Stellen: 67]\n",
      "60. Durchlauf: [letzte drei Stellen: 201]\n",
      "61. Durchlauf: [letzte drei Stellen: 603]\n",
      "62. Durchlauf: [letzte drei Stellen: 809]\n",
      "63. Durchlauf: [letzte drei Stellen: 427]\n",
      "64. Durchlauf: [letzte drei Stellen: 281]\n",
      "65. Durchlauf: [letzte drei Stellen: 843]\n",
      "66. Durchlauf: [letzte drei Stellen: 529]\n",
      "67. Durchlauf: [letzte drei Stellen: 587]\n",
      "68. Durchlauf: [letzte drei Stellen: 761]\n",
      "69. Durchlauf: [letzte drei Stellen: 283]\n",
      "70. Durchlauf: [letzte drei Stellen: 849]\n",
      "71. Durchlauf: [letzte drei Stellen: 547]\n",
      "72. Durchlauf: [letzte drei Stellen: 641]\n",
      "73. Durchlauf: [letzte drei Stellen: 923]\n",
      "74. Durchlauf: [letzte drei Stellen: 769]\n",
      "75. Durchlauf: [letzte drei Stellen: 307]\n",
      "76. Durchlauf: [letzte drei Stellen: 921]\n",
      "77. Durchlauf: [letzte drei Stellen: 763]\n",
      "78. Durchlauf: [letzte drei Stellen: 289]\n",
      "79. Durchlauf: [letzte drei Stellen: 867]\n",
      "80. Durchlauf: [letzte drei Stellen: 601]\n",
      "81. Durchlauf: [letzte drei Stellen: 803]\n",
      "82. Durchlauf: [letzte drei Stellen: 409]\n",
      "83. Durchlauf: [letzte drei Stellen: 227]\n",
      "84. Durchlauf: [letzte drei Stellen: 681]\n",
      "85. Durchlauf: [letzte drei Stellen: 43]\n",
      "86. Durchlauf: [letzte drei Stellen: 129]\n",
      "87. Durchlauf: [letzte drei Stellen: 387]\n",
      "88. Durchlauf: [letzte drei Stellen: 161]\n",
      "89. Durchlauf: [letzte drei Stellen: 483]\n",
      "90. Durchlauf: [letzte drei Stellen: 449]\n",
      "91. Durchlauf: [letzte drei Stellen: 347]\n",
      "92. Durchlauf: [letzte drei Stellen: 41]\n",
      "93. Durchlauf: [letzte drei Stellen: 123]\n",
      "94. Durchlauf: [letzte drei Stellen: 369]\n",
      "95. Durchlauf: [letzte drei Stellen: 107]\n",
      "96. Durchlauf: [letzte drei Stellen: 321]\n",
      "97. Durchlauf: [letzte drei Stellen: 963]\n",
      "98. Durchlauf: [letzte drei Stellen: 889]\n",
      "Die eingegebene Anzahl an Loops ist zu klein.😒\n"
     ]
    }
   ]
  },
  {
   "cell_type": "markdown",
   "source": [
    "#### Aufgabe 17\n",
    "Schreiben Sie Python-Code, der eine beliebige zufällige Zeichenkette einer\n",
    "nutzerdefinierten Länge generiert.\n",
    "Alle Zeichen in der Zeichenkette sollen aus einem nutzerdefinierten String sein,\n",
    "also beispielsweise Ihr Name. (4 P.)"
   ],
   "metadata": {
    "collapsed": false,
    "pycharm": {
     "name": "#%% md\n"
    }
   }
  },
  {
   "cell_type": "code",
   "execution_count": 17,
   "outputs": [
    {
     "name": "stdout",
     "output_type": "stream",
     "text": [
      "exxAeeexAlexAelAAAeA\n"
     ]
    }
   ],
   "source": [
    "givenString2 = list(input(\"Einen String eingeben: \"))\n",
    "wordLength = int(input(\"Wie lange sollte der String sein? \"))\n",
    "finalString = \"\"\n",
    "\n",
    "for elements in range(0, wordLength):\n",
    "    finalString = finalString + givenString2[random.randint(0, len(givenString2)-1)]\n",
    "print(finalString)\n"
   ],
   "metadata": {
    "collapsed": false,
    "pycharm": {
     "name": "#%%\n"
    }
   }
  },
  {
   "cell_type": "markdown",
   "source": [
    "#### Aufgabe 18\n",
    "Berechnen Sie alle Produkte von i*j*k für 0 < i <= 10, 0 < j <= 15, 0 < k <= 20,\n",
    "für die das Produkt i*j*k eine Quadratzahl ist.\n",
    "Geben Sie die Lösungsprodukte aus.\n",
    "Hinweis zur Einfachheit der Aufgabe:\n",
    "Eine ganze positive Zahl ist eine Quadratzahl,\n",
    "wenn ihre Quadratwurzel eine ganze Zahl ist.\n",
    "Alternativ: Eine ganze positive Zahl ist eine Quadratzahl,\n",
    "wenn sie als Summe von aufeinanderfolgenden ungeraden Zahlen,\n",
    "beginnend bei 1 geschrieben werden kann (Beispiel: 1 + 3 + 5 + 7 + 9 = 25). (4 P.)"
   ],
   "metadata": {
    "collapsed": false
   }
  },
  {
   "cell_type": "code",
   "execution_count": 20,
   "outputs": [
    {
     "name": "stdout",
     "output_type": "stream",
     "text": [
      "Quadratwurzel: 1 : [i=\"1\", j=\"1\", k=\"1\"] Faktor: 1.0\n",
      "Quadratwurzel: 4 : [i=\"1\", j=\"1\", k=\"4\"] Faktor: 2.0\n",
      "Quadratwurzel: 9 : [i=\"1\", j=\"1\", k=\"9\"] Faktor: 3.0\n",
      "Quadratwurzel: 16 : [i=\"1\", j=\"1\", k=\"16\"] Faktor: 4.0\n",
      "Quadratwurzel: 4 : [i=\"1\", j=\"2\", k=\"2\"] Faktor: 2.0\n",
      "Quadratwurzel: 16 : [i=\"1\", j=\"2\", k=\"8\"] Faktor: 4.0\n",
      "Quadratwurzel: 36 : [i=\"1\", j=\"2\", k=\"18\"] Faktor: 6.0\n",
      "Quadratwurzel: 9 : [i=\"1\", j=\"3\", k=\"3\"] Faktor: 3.0\n",
      "Quadratwurzel: 36 : [i=\"1\", j=\"3\", k=\"12\"] Faktor: 6.0\n",
      "Quadratwurzel: 4 : [i=\"1\", j=\"4\", k=\"1\"] Faktor: 2.0\n",
      "Quadratwurzel: 16 : [i=\"1\", j=\"4\", k=\"4\"] Faktor: 4.0\n",
      "Quadratwurzel: 36 : [i=\"1\", j=\"4\", k=\"9\"] Faktor: 6.0\n",
      "Quadratwurzel: 64 : [i=\"1\", j=\"4\", k=\"16\"] Faktor: 8.0\n",
      "Quadratwurzel: 25 : [i=\"1\", j=\"5\", k=\"5\"] Faktor: 5.0\n",
      "Quadratwurzel: 100 : [i=\"1\", j=\"5\", k=\"20\"] Faktor: 10.0\n",
      "Quadratwurzel: 36 : [i=\"1\", j=\"6\", k=\"6\"] Faktor: 6.0\n",
      "Quadratwurzel: 49 : [i=\"1\", j=\"7\", k=\"7\"] Faktor: 7.0\n",
      "Quadratwurzel: 16 : [i=\"1\", j=\"8\", k=\"2\"] Faktor: 4.0\n",
      "Quadratwurzel: 64 : [i=\"1\", j=\"8\", k=\"8\"] Faktor: 8.0\n",
      "Quadratwurzel: 144 : [i=\"1\", j=\"8\", k=\"18\"] Faktor: 12.0\n",
      "Quadratwurzel: 9 : [i=\"1\", j=\"9\", k=\"1\"] Faktor: 3.0\n",
      "Quadratwurzel: 36 : [i=\"1\", j=\"9\", k=\"4\"] Faktor: 6.0\n",
      "Quadratwurzel: 81 : [i=\"1\", j=\"9\", k=\"9\"] Faktor: 9.0\n",
      "Quadratwurzel: 144 : [i=\"1\", j=\"9\", k=\"16\"] Faktor: 12.0\n",
      "Quadratwurzel: 100 : [i=\"1\", j=\"10\", k=\"10\"] Faktor: 10.0\n",
      "Quadratwurzel: 121 : [i=\"1\", j=\"11\", k=\"11\"] Faktor: 11.0\n",
      "Quadratwurzel: 36 : [i=\"1\", j=\"12\", k=\"3\"] Faktor: 6.0\n",
      "Quadratwurzel: 144 : [i=\"1\", j=\"12\", k=\"12\"] Faktor: 12.0\n",
      "Quadratwurzel: 169 : [i=\"1\", j=\"13\", k=\"13\"] Faktor: 13.0\n",
      "Quadratwurzel: 196 : [i=\"1\", j=\"14\", k=\"14\"] Faktor: 14.0\n",
      "Quadratwurzel: 225 : [i=\"1\", j=\"15\", k=\"15\"] Faktor: 15.0\n",
      "Quadratwurzel: 4 : [i=\"2\", j=\"1\", k=\"2\"] Faktor: 2.0\n",
      "Quadratwurzel: 16 : [i=\"2\", j=\"1\", k=\"8\"] Faktor: 4.0\n",
      "Quadratwurzel: 36 : [i=\"2\", j=\"1\", k=\"18\"] Faktor: 6.0\n",
      "Quadratwurzel: 4 : [i=\"2\", j=\"2\", k=\"1\"] Faktor: 2.0\n",
      "Quadratwurzel: 16 : [i=\"2\", j=\"2\", k=\"4\"] Faktor: 4.0\n",
      "Quadratwurzel: 36 : [i=\"2\", j=\"2\", k=\"9\"] Faktor: 6.0\n",
      "Quadratwurzel: 64 : [i=\"2\", j=\"2\", k=\"16\"] Faktor: 8.0\n",
      "Quadratwurzel: 36 : [i=\"2\", j=\"3\", k=\"6\"] Faktor: 6.0\n",
      "Quadratwurzel: 16 : [i=\"2\", j=\"4\", k=\"2\"] Faktor: 4.0\n",
      "Quadratwurzel: 64 : [i=\"2\", j=\"4\", k=\"8\"] Faktor: 8.0\n",
      "Quadratwurzel: 144 : [i=\"2\", j=\"4\", k=\"18\"] Faktor: 12.0\n",
      "Quadratwurzel: 100 : [i=\"2\", j=\"5\", k=\"10\"] Faktor: 10.0\n",
      "Quadratwurzel: 36 : [i=\"2\", j=\"6\", k=\"3\"] Faktor: 6.0\n",
      "Quadratwurzel: 144 : [i=\"2\", j=\"6\", k=\"12\"] Faktor: 12.0\n",
      "Quadratwurzel: 196 : [i=\"2\", j=\"7\", k=\"14\"] Faktor: 14.0\n",
      "Quadratwurzel: 16 : [i=\"2\", j=\"8\", k=\"1\"] Faktor: 4.0\n",
      "Quadratwurzel: 64 : [i=\"2\", j=\"8\", k=\"4\"] Faktor: 8.0\n",
      "Quadratwurzel: 144 : [i=\"2\", j=\"8\", k=\"9\"] Faktor: 12.0\n",
      "Quadratwurzel: 256 : [i=\"2\", j=\"8\", k=\"16\"] Faktor: 16.0\n",
      "Quadratwurzel: 36 : [i=\"2\", j=\"9\", k=\"2\"] Faktor: 6.0\n",
      "Quadratwurzel: 144 : [i=\"2\", j=\"9\", k=\"8\"] Faktor: 12.0\n",
      "Quadratwurzel: 324 : [i=\"2\", j=\"9\", k=\"18\"] Faktor: 18.0\n",
      "Quadratwurzel: 100 : [i=\"2\", j=\"10\", k=\"5\"] Faktor: 10.0\n",
      "Quadratwurzel: 400 : [i=\"2\", j=\"10\", k=\"20\"] Faktor: 20.0\n",
      "Quadratwurzel: 144 : [i=\"2\", j=\"12\", k=\"6\"] Faktor: 12.0\n",
      "Quadratwurzel: 196 : [i=\"2\", j=\"14\", k=\"7\"] Faktor: 14.0\n",
      "Quadratwurzel: 9 : [i=\"3\", j=\"1\", k=\"3\"] Faktor: 3.0\n",
      "Quadratwurzel: 36 : [i=\"3\", j=\"1\", k=\"12\"] Faktor: 6.0\n",
      "Quadratwurzel: 36 : [i=\"3\", j=\"2\", k=\"6\"] Faktor: 6.0\n",
      "Quadratwurzel: 9 : [i=\"3\", j=\"3\", k=\"1\"] Faktor: 3.0\n",
      "Quadratwurzel: 36 : [i=\"3\", j=\"3\", k=\"4\"] Faktor: 6.0\n",
      "Quadratwurzel: 81 : [i=\"3\", j=\"3\", k=\"9\"] Faktor: 9.0\n",
      "Quadratwurzel: 144 : [i=\"3\", j=\"3\", k=\"16\"] Faktor: 12.0\n",
      "Quadratwurzel: 36 : [i=\"3\", j=\"4\", k=\"3\"] Faktor: 6.0\n",
      "Quadratwurzel: 144 : [i=\"3\", j=\"4\", k=\"12\"] Faktor: 12.0\n",
      "Quadratwurzel: 225 : [i=\"3\", j=\"5\", k=\"15\"] Faktor: 15.0\n",
      "Quadratwurzel: 36 : [i=\"3\", j=\"6\", k=\"2\"] Faktor: 6.0\n",
      "Quadratwurzel: 144 : [i=\"3\", j=\"6\", k=\"8\"] Faktor: 12.0\n",
      "Quadratwurzel: 324 : [i=\"3\", j=\"6\", k=\"18\"] Faktor: 18.0\n",
      "Quadratwurzel: 144 : [i=\"3\", j=\"8\", k=\"6\"] Faktor: 12.0\n",
      "Quadratwurzel: 81 : [i=\"3\", j=\"9\", k=\"3\"] Faktor: 9.0\n",
      "Quadratwurzel: 324 : [i=\"3\", j=\"9\", k=\"12\"] Faktor: 18.0\n",
      "Quadratwurzel: 36 : [i=\"3\", j=\"12\", k=\"1\"] Faktor: 6.0\n",
      "Quadratwurzel: 144 : [i=\"3\", j=\"12\", k=\"4\"] Faktor: 12.0\n",
      "Quadratwurzel: 324 : [i=\"3\", j=\"12\", k=\"9\"] Faktor: 18.0\n",
      "Quadratwurzel: 576 : [i=\"3\", j=\"12\", k=\"16\"] Faktor: 24.0\n",
      "Quadratwurzel: 225 : [i=\"3\", j=\"15\", k=\"5\"] Faktor: 15.0\n",
      "Quadratwurzel: 900 : [i=\"3\", j=\"15\", k=\"20\"] Faktor: 30.0\n",
      "Quadratwurzel: 4 : [i=\"4\", j=\"1\", k=\"1\"] Faktor: 2.0\n",
      "Quadratwurzel: 16 : [i=\"4\", j=\"1\", k=\"4\"] Faktor: 4.0\n",
      "Quadratwurzel: 36 : [i=\"4\", j=\"1\", k=\"9\"] Faktor: 6.0\n",
      "Quadratwurzel: 64 : [i=\"4\", j=\"1\", k=\"16\"] Faktor: 8.0\n",
      "Quadratwurzel: 16 : [i=\"4\", j=\"2\", k=\"2\"] Faktor: 4.0\n",
      "Quadratwurzel: 64 : [i=\"4\", j=\"2\", k=\"8\"] Faktor: 8.0\n",
      "Quadratwurzel: 144 : [i=\"4\", j=\"2\", k=\"18\"] Faktor: 12.0\n",
      "Quadratwurzel: 36 : [i=\"4\", j=\"3\", k=\"3\"] Faktor: 6.0\n",
      "Quadratwurzel: 144 : [i=\"4\", j=\"3\", k=\"12\"] Faktor: 12.0\n",
      "Quadratwurzel: 16 : [i=\"4\", j=\"4\", k=\"1\"] Faktor: 4.0\n",
      "Quadratwurzel: 64 : [i=\"4\", j=\"4\", k=\"4\"] Faktor: 8.0\n",
      "Quadratwurzel: 144 : [i=\"4\", j=\"4\", k=\"9\"] Faktor: 12.0\n",
      "Quadratwurzel: 256 : [i=\"4\", j=\"4\", k=\"16\"] Faktor: 16.0\n",
      "Quadratwurzel: 100 : [i=\"4\", j=\"5\", k=\"5\"] Faktor: 10.0\n",
      "Quadratwurzel: 400 : [i=\"4\", j=\"5\", k=\"20\"] Faktor: 20.0\n",
      "Quadratwurzel: 144 : [i=\"4\", j=\"6\", k=\"6\"] Faktor: 12.0\n",
      "Quadratwurzel: 196 : [i=\"4\", j=\"7\", k=\"7\"] Faktor: 14.0\n",
      "Quadratwurzel: 64 : [i=\"4\", j=\"8\", k=\"2\"] Faktor: 8.0\n",
      "Quadratwurzel: 256 : [i=\"4\", j=\"8\", k=\"8\"] Faktor: 16.0\n",
      "Quadratwurzel: 576 : [i=\"4\", j=\"8\", k=\"18\"] Faktor: 24.0\n",
      "Quadratwurzel: 36 : [i=\"4\", j=\"9\", k=\"1\"] Faktor: 6.0\n",
      "Quadratwurzel: 144 : [i=\"4\", j=\"9\", k=\"4\"] Faktor: 12.0\n",
      "Quadratwurzel: 324 : [i=\"4\", j=\"9\", k=\"9\"] Faktor: 18.0\n",
      "Quadratwurzel: 576 : [i=\"4\", j=\"9\", k=\"16\"] Faktor: 24.0\n",
      "Quadratwurzel: 400 : [i=\"4\", j=\"10\", k=\"10\"] Faktor: 20.0\n",
      "Quadratwurzel: 484 : [i=\"4\", j=\"11\", k=\"11\"] Faktor: 22.0\n",
      "Quadratwurzel: 144 : [i=\"4\", j=\"12\", k=\"3\"] Faktor: 12.0\n",
      "Quadratwurzel: 576 : [i=\"4\", j=\"12\", k=\"12\"] Faktor: 24.0\n",
      "Quadratwurzel: 676 : [i=\"4\", j=\"13\", k=\"13\"] Faktor: 26.0\n",
      "Quadratwurzel: 784 : [i=\"4\", j=\"14\", k=\"14\"] Faktor: 28.0\n",
      "Quadratwurzel: 900 : [i=\"4\", j=\"15\", k=\"15\"] Faktor: 30.0\n",
      "Quadratwurzel: 25 : [i=\"5\", j=\"1\", k=\"5\"] Faktor: 5.0\n",
      "Quadratwurzel: 100 : [i=\"5\", j=\"1\", k=\"20\"] Faktor: 10.0\n",
      "Quadratwurzel: 100 : [i=\"5\", j=\"2\", k=\"10\"] Faktor: 10.0\n",
      "Quadratwurzel: 225 : [i=\"5\", j=\"3\", k=\"15\"] Faktor: 15.0\n",
      "Quadratwurzel: 100 : [i=\"5\", j=\"4\", k=\"5\"] Faktor: 10.0\n",
      "Quadratwurzel: 400 : [i=\"5\", j=\"4\", k=\"20\"] Faktor: 20.0\n",
      "Quadratwurzel: 25 : [i=\"5\", j=\"5\", k=\"1\"] Faktor: 5.0\n",
      "Quadratwurzel: 100 : [i=\"5\", j=\"5\", k=\"4\"] Faktor: 10.0\n",
      "Quadratwurzel: 225 : [i=\"5\", j=\"5\", k=\"9\"] Faktor: 15.0\n",
      "Quadratwurzel: 400 : [i=\"5\", j=\"5\", k=\"16\"] Faktor: 20.0\n",
      "Quadratwurzel: 400 : [i=\"5\", j=\"8\", k=\"10\"] Faktor: 20.0\n",
      "Quadratwurzel: 225 : [i=\"5\", j=\"9\", k=\"5\"] Faktor: 15.0\n",
      "Quadratwurzel: 900 : [i=\"5\", j=\"9\", k=\"20\"] Faktor: 30.0\n",
      "Quadratwurzel: 100 : [i=\"5\", j=\"10\", k=\"2\"] Faktor: 10.0\n",
      "Quadratwurzel: 400 : [i=\"5\", j=\"10\", k=\"8\"] Faktor: 20.0\n",
      "Quadratwurzel: 900 : [i=\"5\", j=\"10\", k=\"18\"] Faktor: 30.0\n",
      "Quadratwurzel: 900 : [i=\"5\", j=\"12\", k=\"15\"] Faktor: 30.0\n",
      "Quadratwurzel: 225 : [i=\"5\", j=\"15\", k=\"3\"] Faktor: 15.0\n",
      "Quadratwurzel: 900 : [i=\"5\", j=\"15\", k=\"12\"] Faktor: 30.0\n",
      "Quadratwurzel: 36 : [i=\"6\", j=\"1\", k=\"6\"] Faktor: 6.0\n",
      "Quadratwurzel: 36 : [i=\"6\", j=\"2\", k=\"3\"] Faktor: 6.0\n",
      "Quadratwurzel: 144 : [i=\"6\", j=\"2\", k=\"12\"] Faktor: 12.0\n",
      "Quadratwurzel: 36 : [i=\"6\", j=\"3\", k=\"2\"] Faktor: 6.0\n",
      "Quadratwurzel: 144 : [i=\"6\", j=\"3\", k=\"8\"] Faktor: 12.0\n",
      "Quadratwurzel: 324 : [i=\"6\", j=\"3\", k=\"18\"] Faktor: 18.0\n",
      "Quadratwurzel: 144 : [i=\"6\", j=\"4\", k=\"6\"] Faktor: 12.0\n",
      "Quadratwurzel: 36 : [i=\"6\", j=\"6\", k=\"1\"] Faktor: 6.0\n",
      "Quadratwurzel: 144 : [i=\"6\", j=\"6\", k=\"4\"] Faktor: 12.0\n",
      "Quadratwurzel: 324 : [i=\"6\", j=\"6\", k=\"9\"] Faktor: 18.0\n",
      "Quadratwurzel: 576 : [i=\"6\", j=\"6\", k=\"16\"] Faktor: 24.0\n",
      "Quadratwurzel: 144 : [i=\"6\", j=\"8\", k=\"3\"] Faktor: 12.0\n",
      "Quadratwurzel: 576 : [i=\"6\", j=\"8\", k=\"12\"] Faktor: 24.0\n",
      "Quadratwurzel: 324 : [i=\"6\", j=\"9\", k=\"6\"] Faktor: 18.0\n",
      "Quadratwurzel: 900 : [i=\"6\", j=\"10\", k=\"15\"] Faktor: 30.0\n",
      "Quadratwurzel: 144 : [i=\"6\", j=\"12\", k=\"2\"] Faktor: 12.0\n",
      "Quadratwurzel: 576 : [i=\"6\", j=\"12\", k=\"8\"] Faktor: 24.0\n",
      "Quadratwurzel: 1296 : [i=\"6\", j=\"12\", k=\"18\"] Faktor: 36.0\n",
      "Quadratwurzel: 900 : [i=\"6\", j=\"15\", k=\"10\"] Faktor: 30.0\n",
      "Quadratwurzel: 49 : [i=\"7\", j=\"1\", k=\"7\"] Faktor: 7.0\n",
      "Quadratwurzel: 196 : [i=\"7\", j=\"2\", k=\"14\"] Faktor: 14.0\n",
      "Quadratwurzel: 196 : [i=\"7\", j=\"4\", k=\"7\"] Faktor: 14.0\n",
      "Quadratwurzel: 49 : [i=\"7\", j=\"7\", k=\"1\"] Faktor: 7.0\n",
      "Quadratwurzel: 196 : [i=\"7\", j=\"7\", k=\"4\"] Faktor: 14.0\n",
      "Quadratwurzel: 441 : [i=\"7\", j=\"7\", k=\"9\"] Faktor: 21.0\n",
      "Quadratwurzel: 784 : [i=\"7\", j=\"7\", k=\"16\"] Faktor: 28.0\n",
      "Quadratwurzel: 784 : [i=\"7\", j=\"8\", k=\"14\"] Faktor: 28.0\n",
      "Quadratwurzel: 441 : [i=\"7\", j=\"9\", k=\"7\"] Faktor: 21.0\n",
      "Quadratwurzel: 196 : [i=\"7\", j=\"14\", k=\"2\"] Faktor: 14.0\n",
      "Quadratwurzel: 784 : [i=\"7\", j=\"14\", k=\"8\"] Faktor: 28.0\n",
      "Quadratwurzel: 1764 : [i=\"7\", j=\"14\", k=\"18\"] Faktor: 42.0\n",
      "Quadratwurzel: 16 : [i=\"8\", j=\"1\", k=\"2\"] Faktor: 4.0\n",
      "Quadratwurzel: 64 : [i=\"8\", j=\"1\", k=\"8\"] Faktor: 8.0\n",
      "Quadratwurzel: 144 : [i=\"8\", j=\"1\", k=\"18\"] Faktor: 12.0\n",
      "Quadratwurzel: 16 : [i=\"8\", j=\"2\", k=\"1\"] Faktor: 4.0\n",
      "Quadratwurzel: 64 : [i=\"8\", j=\"2\", k=\"4\"] Faktor: 8.0\n",
      "Quadratwurzel: 144 : [i=\"8\", j=\"2\", k=\"9\"] Faktor: 12.0\n",
      "Quadratwurzel: 256 : [i=\"8\", j=\"2\", k=\"16\"] Faktor: 16.0\n",
      "Quadratwurzel: 144 : [i=\"8\", j=\"3\", k=\"6\"] Faktor: 12.0\n",
      "Quadratwurzel: 64 : [i=\"8\", j=\"4\", k=\"2\"] Faktor: 8.0\n",
      "Quadratwurzel: 256 : [i=\"8\", j=\"4\", k=\"8\"] Faktor: 16.0\n",
      "Quadratwurzel: 576 : [i=\"8\", j=\"4\", k=\"18\"] Faktor: 24.0\n",
      "Quadratwurzel: 400 : [i=\"8\", j=\"5\", k=\"10\"] Faktor: 20.0\n",
      "Quadratwurzel: 144 : [i=\"8\", j=\"6\", k=\"3\"] Faktor: 12.0\n",
      "Quadratwurzel: 576 : [i=\"8\", j=\"6\", k=\"12\"] Faktor: 24.0\n",
      "Quadratwurzel: 784 : [i=\"8\", j=\"7\", k=\"14\"] Faktor: 28.0\n",
      "Quadratwurzel: 64 : [i=\"8\", j=\"8\", k=\"1\"] Faktor: 8.0\n",
      "Quadratwurzel: 256 : [i=\"8\", j=\"8\", k=\"4\"] Faktor: 16.0\n",
      "Quadratwurzel: 576 : [i=\"8\", j=\"8\", k=\"9\"] Faktor: 24.0\n",
      "Quadratwurzel: 1024 : [i=\"8\", j=\"8\", k=\"16\"] Faktor: 32.0\n",
      "Quadratwurzel: 144 : [i=\"8\", j=\"9\", k=\"2\"] Faktor: 12.0\n",
      "Quadratwurzel: 576 : [i=\"8\", j=\"9\", k=\"8\"] Faktor: 24.0\n",
      "Quadratwurzel: 1296 : [i=\"8\", j=\"9\", k=\"18\"] Faktor: 36.0\n",
      "Quadratwurzel: 400 : [i=\"8\", j=\"10\", k=\"5\"] Faktor: 20.0\n",
      "Quadratwurzel: 1600 : [i=\"8\", j=\"10\", k=\"20\"] Faktor: 40.0\n",
      "Quadratwurzel: 576 : [i=\"8\", j=\"12\", k=\"6\"] Faktor: 24.0\n",
      "Quadratwurzel: 784 : [i=\"8\", j=\"14\", k=\"7\"] Faktor: 28.0\n",
      "Quadratwurzel: 9 : [i=\"9\", j=\"1\", k=\"1\"] Faktor: 3.0\n",
      "Quadratwurzel: 36 : [i=\"9\", j=\"1\", k=\"4\"] Faktor: 6.0\n",
      "Quadratwurzel: 81 : [i=\"9\", j=\"1\", k=\"9\"] Faktor: 9.0\n",
      "Quadratwurzel: 144 : [i=\"9\", j=\"1\", k=\"16\"] Faktor: 12.0\n",
      "Quadratwurzel: 36 : [i=\"9\", j=\"2\", k=\"2\"] Faktor: 6.0\n",
      "Quadratwurzel: 144 : [i=\"9\", j=\"2\", k=\"8\"] Faktor: 12.0\n",
      "Quadratwurzel: 324 : [i=\"9\", j=\"2\", k=\"18\"] Faktor: 18.0\n",
      "Quadratwurzel: 81 : [i=\"9\", j=\"3\", k=\"3\"] Faktor: 9.0\n",
      "Quadratwurzel: 324 : [i=\"9\", j=\"3\", k=\"12\"] Faktor: 18.0\n",
      "Quadratwurzel: 36 : [i=\"9\", j=\"4\", k=\"1\"] Faktor: 6.0\n",
      "Quadratwurzel: 144 : [i=\"9\", j=\"4\", k=\"4\"] Faktor: 12.0\n",
      "Quadratwurzel: 324 : [i=\"9\", j=\"4\", k=\"9\"] Faktor: 18.0\n",
      "Quadratwurzel: 576 : [i=\"9\", j=\"4\", k=\"16\"] Faktor: 24.0\n",
      "Quadratwurzel: 225 : [i=\"9\", j=\"5\", k=\"5\"] Faktor: 15.0\n",
      "Quadratwurzel: 900 : [i=\"9\", j=\"5\", k=\"20\"] Faktor: 30.0\n",
      "Quadratwurzel: 324 : [i=\"9\", j=\"6\", k=\"6\"] Faktor: 18.0\n",
      "Quadratwurzel: 441 : [i=\"9\", j=\"7\", k=\"7\"] Faktor: 21.0\n",
      "Quadratwurzel: 144 : [i=\"9\", j=\"8\", k=\"2\"] Faktor: 12.0\n",
      "Quadratwurzel: 576 : [i=\"9\", j=\"8\", k=\"8\"] Faktor: 24.0\n",
      "Quadratwurzel: 1296 : [i=\"9\", j=\"8\", k=\"18\"] Faktor: 36.0\n",
      "Quadratwurzel: 81 : [i=\"9\", j=\"9\", k=\"1\"] Faktor: 9.0\n",
      "Quadratwurzel: 324 : [i=\"9\", j=\"9\", k=\"4\"] Faktor: 18.0\n",
      "Quadratwurzel: 729 : [i=\"9\", j=\"9\", k=\"9\"] Faktor: 27.0\n",
      "Quadratwurzel: 1296 : [i=\"9\", j=\"9\", k=\"16\"] Faktor: 36.0\n",
      "Quadratwurzel: 900 : [i=\"9\", j=\"10\", k=\"10\"] Faktor: 30.0\n",
      "Quadratwurzel: 1089 : [i=\"9\", j=\"11\", k=\"11\"] Faktor: 33.0\n",
      "Quadratwurzel: 324 : [i=\"9\", j=\"12\", k=\"3\"] Faktor: 18.0\n",
      "Quadratwurzel: 1296 : [i=\"9\", j=\"12\", k=\"12\"] Faktor: 36.0\n",
      "Quadratwurzel: 1521 : [i=\"9\", j=\"13\", k=\"13\"] Faktor: 39.0\n",
      "Quadratwurzel: 1764 : [i=\"9\", j=\"14\", k=\"14\"] Faktor: 42.0\n",
      "Quadratwurzel: 2025 : [i=\"9\", j=\"15\", k=\"15\"] Faktor: 45.0\n",
      "Quadratwurzel: 100 : [i=\"10\", j=\"1\", k=\"10\"] Faktor: 10.0\n",
      "Quadratwurzel: 100 : [i=\"10\", j=\"2\", k=\"5\"] Faktor: 10.0\n",
      "Quadratwurzel: 400 : [i=\"10\", j=\"2\", k=\"20\"] Faktor: 20.0\n",
      "Quadratwurzel: 400 : [i=\"10\", j=\"4\", k=\"10\"] Faktor: 20.0\n",
      "Quadratwurzel: 100 : [i=\"10\", j=\"5\", k=\"2\"] Faktor: 10.0\n",
      "Quadratwurzel: 400 : [i=\"10\", j=\"5\", k=\"8\"] Faktor: 20.0\n",
      "Quadratwurzel: 900 : [i=\"10\", j=\"5\", k=\"18\"] Faktor: 30.0\n",
      "Quadratwurzel: 900 : [i=\"10\", j=\"6\", k=\"15\"] Faktor: 30.0\n",
      "Quadratwurzel: 400 : [i=\"10\", j=\"8\", k=\"5\"] Faktor: 20.0\n",
      "Quadratwurzel: 1600 : [i=\"10\", j=\"8\", k=\"20\"] Faktor: 40.0\n",
      "Quadratwurzel: 900 : [i=\"10\", j=\"9\", k=\"10\"] Faktor: 30.0\n",
      "Quadratwurzel: 100 : [i=\"10\", j=\"10\", k=\"1\"] Faktor: 10.0\n",
      "Quadratwurzel: 400 : [i=\"10\", j=\"10\", k=\"4\"] Faktor: 20.0\n",
      "Quadratwurzel: 900 : [i=\"10\", j=\"10\", k=\"9\"] Faktor: 30.0\n",
      "Quadratwurzel: 1600 : [i=\"10\", j=\"10\", k=\"16\"] Faktor: 40.0\n",
      "Quadratwurzel: 900 : [i=\"10\", j=\"15\", k=\"6\"] Faktor: 30.0\n"
     ]
    }
   ],
   "source": [
    "# Variable vordefinieren\n",
    "resultat = 1\n",
    "\n",
    "# range benutzt die beiden ersten Parameter nicht\n",
    "# und die Inkrementierung ist default 1, deswegen 0 und 11 weil die Zahlen bis und mit 10 sind\n",
    "for i in range(11):\n",
    "    for j in range(16):\n",
    "        for k in range(21):\n",
    "            # Resultat wird berechnet\n",
    "            resultat = i * j * k\n",
    "\n",
    "            # Wurzel wird mit der Potenzierung von 0.5 errechnet\n",
    "            # und mit Modulo 1 == 0 wird überprüft ob das Ergebnis eine Ganzzahl ist.\n",
    "            if resultat != 0 and resultat**0.5%1 == 0:\n",
    "                print(\"Quadratwurzel: \" + str(resultat) + \" : [i=\\\"\" + str(i) + \"\\\", j=\\\"\" + str(j) + \"\\\", k=\\\"\" + str(k) + \"\\\"] Faktor: \" + str(resultat**0.5))"
   ],
   "metadata": {
    "collapsed": false,
    "pycharm": {
     "name": "#%%\n"
    }
   }
  },
  {
   "cell_type": "markdown",
   "source": [
    "#### Aufgabe 19\n",
    "Wandeln Sie folgende for-Schleife in eine while-Scheife um,\n",
    "die die gleiche Ausgabe wie die for-Schleife erzeugt. (4 P.)"
   ],
   "metadata": {
    "collapsed": false
   }
  },
  {
   "cell_type": "code",
   "execution_count": 4,
   "outputs": [
    {
     "name": "stdout",
     "output_type": "stream",
     "text": [
      "1 3 6 10 15 21 28 36 45 55 66 78 91 105 120 136 153 171 190 210 231 253 276 300 325 351 378 406 435 465 496 528 561 595 630 666 703 741 780 820 861 903 946 990 1035 1081 1128 1176 1225 1275 1326 1378 1431 1485 1540 1596 1653 1711 1770 1830 1891 1953 2016 2080 2145 2211 2278 2346 2415 2485 2556 2628 2701 2775 2850 2926 3003 3081 3160 3240 3321 3403 3486 3570 3655 3741 3828 3916 4005 4095 4186 4278 4371 4465 4560 4656 4753 4851 4950 "
     ]
    }
   ],
   "source": [
    "# for Schleife (Aufgabenstellung)\n",
    "j = 0\n",
    "for i in range (1, 100):\n",
    "    j += i\n",
    "    print(j, end = \" \")"
   ],
   "metadata": {
    "collapsed": false,
    "pycharm": {
     "name": "#%%\n"
    }
   }
  },
  {
   "cell_type": "code",
   "execution_count": 3,
   "outputs": [
    {
     "name": "stdout",
     "output_type": "stream",
     "text": [
      "\n",
      "\n",
      "While Schleife: \n",
      "1 3 6 10 15 21 28 36 45 55 66 78 91 105 120 136 153 171 190 210 231 253 276 300 325 351 378 406 435 465 496 528 561 595 630 666 703 741 780 820 861 903 946 990 1035 1081 1128 1176 1225 1275 1326 1378 1431 1485 1540 1596 1653 1711 1770 1830 1891 1953 2016 2080 2145 2211 2278 2346 2415 2485 2556 2628 2701 2775 2850 2926 3003 3081 3160 3240 3321 3403 3486 3570 3655 3741 3828 3916 4005 4095 4186 4278 4371 4465 4560 4656 4753 4851 4950 \n",
      "\n",
      "While Schleife: \n",
      "1 3 6 10 15 21 28 36 45 55 66 78 91 105 120 136 153 171 190 210 231 253 276 300 325 351 378 406 435 465 496 528 561 595 630 666 703 741 780 820 861 903 946 990 1035 1081 1128 1176 1225 1275 1326 1378 1431 1485 1540 1596 1653 1711 1770 1830 1891 1953 2016 2080 2145 2211 2278 2346 2415 2485 2556 2628 2701 2775 2850 2926 3003 3081 3160 3240 3321 3403 3486 3570 3655 3741 3828 3916 4005 4095 4186 4278 4371 4465 4560 4656 4753 4851 4950 "
     ]
    }
   ],
   "source": [
    "# while Schleife (Mein Code)\n",
    "print(\"\\n\\nWhile Schleife: \")\n",
    "# Index ist zwei, weil bei range der Wert 1 nicht mitgezählt wird\n",
    "index = 2\n",
    "\n",
    "# j ist 1, weil Bei der Zahl 1 begonnen wird\n",
    "j = 1\n",
    "while index < 101:\n",
    "    # Print zuerst da mit 1 begonnen werden sollte\n",
    "    print(j, end = \" \")\n",
    "    j += index\n",
    "\n",
    "\n",
    "    # Als letztes den Index erhöhen\n",
    "    index += 1"
   ],
   "metadata": {
    "collapsed": false,
    "pycharm": {
     "name": "#%%\n"
    }
   }
  },
  {
   "cell_type": "code",
   "execution_count": 5,
   "outputs": [
    {
     "name": "stdout",
     "output_type": "stream",
     "text": [
      "Rekursion: \n",
      "1 3 6 10 15 21 28 36 45 55 66 78 91 105 120 136 153 171 190 210 231 253 276 300 325 351 378 406 435 465 496 528 561 595 630 666 703 741 780 820 861 903 946 990 1035 1081 1128 1176 1225 1275 1326 1378 1431 1485 1540 1596 1653 1711 1770 1830 1891 1953 2016 2080 2145 2211 2278 2346 2415 2485 2556 2628 2701 2775 2850 2926 3003 3081 3160 3240 3321 3403 3486 3570 3655 3741 3828 3916 4005 4095 4186 4278 4371 4465 4560 4656 4753 4851 4950 "
     ]
    }
   ],
   "source": [
    "print(\"Rekursion: \")\n",
    "\n",
    "def rekursion(j, zaehler):\n",
    "    if zaehler < 100:\n",
    "        j += zaehler\n",
    "        print(j, end = \" \")\n",
    "        rekursion(j, zaehler+1)\n",
    "\n",
    "rekursion(0, 1)"
   ],
   "metadata": {
    "collapsed": false,
    "pycharm": {
     "name": "#%%\n"
    }
   }
  },
  {
   "cell_type": "markdown",
   "source": [
    "#### Aufgabe 20\n",
    "Wie oft muss man einen Würfel im Durchschnitt würfeln (random),\n",
    "bis zum ersten Mal 20 mal eine 6 gewürfelt wurde?\n",
    "Schreiben Sie Python-Code, der ein solches kleines Häufigkeitsexperiment durchführt.\n",
    "Wie viele Teilexperimente müssen Sie durchführen? Diskutieren Sie. (Beispiel, siehe Vorlesung). (4 P.)"
   ],
   "metadata": {
    "collapsed": false
   }
  },
  {
   "cell_type": "code",
   "execution_count": null,
   "outputs": [],
   "source": [
    "# Die Bibliothek import nicht vergessen zu importieren\n",
    "def wurfBisZwanzig():\n",
    "    # Wird für jeden gewürfelten 6er um 1 erhöht\n",
    "    anzSechser = 0\n",
    "\n",
    "    # Wird bei jedem würfeln um 1 erhöht (also alle Zahlen)\n",
    "    anzWurf = 0\n",
    "\n",
    "    while anzSechser < 20:\n",
    "        zufallsZahl = random.randint(1, 6)\n",
    "        if zufallsZahl == 6:\n",
    "            anzSechser += 1\n",
    "            print(str(zufallsZahl) + \" <---- \" + str(anzSechser))\n",
    "        anzWurf += 1\n",
    "        print(str(zufallsZahl))\n",
    "\n",
    "    print(\"Anzahl Sechser: \" + str(anzSechser))\n",
    "    print(\"Anzahl Würfe: \" + str(anzWurf))\n",
    "    return anzWurf\n",
    "\n",
    "wurfBisZwanzig()"
   ],
   "metadata": {
    "collapsed": false,
    "pycharm": {
     "name": "#%%\n"
    }
   }
  },
  {
   "cell_type": "markdown",
   "source": [
    "Overall Nach wievielen Würfeln:"
   ],
   "metadata": {
    "collapsed": false
   }
  },
  {
   "cell_type": "code",
   "execution_count": null,
   "outputs": [],
   "source": [
    "# ---------------------------------------- ACHTUNG -------------------------------------------\n",
    "# Es wird die Funktion MIT den prints verwendet, die anzahl sollte somit KLEIN gehalten werden\n",
    "# Es kann ansonsten sein, dass das Programm LANGE braucht um zu Ende zu kommen.\n",
    "# --------------------------------------------------------------------------------------------\n",
    "\n",
    "total = 0\n",
    "anzahl = 1000\n",
    "\n",
    "for i in range(0, anzahl):\n",
    "    anzahlWurfe = wurfBisZwanzig()\n",
    "    total += anzahlWurfe\n",
    "\n",
    "print(\"Gesamt: \" + str(total/anzahl))"
   ],
   "metadata": {
    "collapsed": false,
    "pycharm": {
     "name": "#%%\n"
    }
   }
  }
 ],
 "metadata": {
  "kernelspec": {
   "display_name": "Python 3",
   "language": "python",
   "name": "python3"
  },
  "language_info": {
   "codemirror_mode": {
    "name": "ipython",
    "version": 2
   },
   "file_extension": ".py",
   "mimetype": "text/x-python",
   "name": "python",
   "nbconvert_exporter": "python",
   "pygments_lexer": "ipython2",
   "version": "2.7.6"
  }
 },
 "nbformat": 4,
 "nbformat_minor": 0
}