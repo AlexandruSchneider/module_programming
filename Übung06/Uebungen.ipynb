{
 "cells": [
  {
   "cell_type": "markdown",
   "metadata": {
    "collapsed": true,
    "pycharm": {
     "name": "#%% md\n"
    }
   },
   "source": [
    "# Aufgabenblatt 6\n",
    "Woche 7"
   ]
  },
  {
   "cell_type": "code",
   "execution_count": 1,
   "outputs": [],
   "source": [
    "import re\n",
    "from sklearn.metrics import mean_squared_error"
   ],
   "metadata": {
    "collapsed": false,
    "pycharm": {
     "name": "#%%\n"
    }
   }
  },
  {
   "cell_type": "markdown",
   "source": [
    "#### Aufgabe 26\n",
    "Für eine Liste an Studenten soll nach einer Klausur eine Punkteliste angelegt und Student für Student mit Werten gefüllt werden. Dabei sollen keine String-Eingaben erlaubt sein. Schreiben Sie Code, der mit einem try… except… else… abfängt, ob jemand einen Integer oder eine Floating Point Zahl eingegeben hat."
   ],
   "metadata": {
    "collapsed": false
   }
  },
  {
   "cell_type": "code",
   "execution_count": 3,
   "outputs": [
    {
     "name": "stdout",
     "output_type": "stream",
     "text": [
      "['Alex', 'Andre', 'Benito', 'Raphael', 'Rafael']\n",
      "[5.5, 4.3, 6.0, 3.0, 5.7]\n"
     ]
    }
   ],
   "source": [
    "studenten = [\"Alex\", \"Andre\", \"Benito\", \"Raphael\", \"Rafael\"]\n",
    "punkteListe = []\n",
    "\n",
    "try:\n",
    "    for student in studenten:\n",
    "        note = float(input(f\"Note für Student {student} zwischen 1 und 6 eingeben: \"))\n",
    "        if 1 <= note <= 6:\n",
    "            punkteListe.append(note)\n",
    "        else:\n",
    "            raise Exception(\"Zahl sollte zwischen 1 und 6 liegen!\")\n",
    "except:\n",
    "    print(\"Bitte eine gültige Note eingeben!\")\n",
    "    raise Exception(\"Ungültige Note!\")\n",
    "else:\n",
    "    print(studenten)\n",
    "    print(punkteListe)"
   ],
   "metadata": {
    "collapsed": false,
    "pycharm": {
     "name": "#%%\n"
    }
   }
  },
  {
   "cell_type": "code",
   "execution_count": 30,
   "outputs": [
    {
     "name": "stdout",
     "output_type": "stream",
     "text": [
      "['Alex', 'Andre', 'Benito', 'Raphael', 'Rafael']\n",
      "[1.0, 5.9, 6.0, 6.0, 4.5]\n"
     ]
    }
   ],
   "source": [
    "# Exceptions sollten grundsätzlich vermieden werden\n",
    "# somit kann das Ganze zum Beispiel auch so gelöst werden:\n",
    "studenten = [\"Alex\", \"Andre\", \"Benito\", \"Raphael\", \"Rafael\"]\n",
    "punkteListe = []\n",
    "\n",
    "# This checks if the grad is in between 1.0 and 6.0\n",
    "# First part checks if number is in between 1.0 and 5.9 and\n",
    "# last past checks if number is 6.0\n",
    "# The value is also possible to write in , or .\n",
    "numFormat = re.compile(\"^[1-5]([,.][0-9])?$|^[6]([,.][0])?$\")\n",
    "\n",
    "for student in studenten:\n",
    "    validNote = False\n",
    "    inputString = f\"Note für Student {student} zwischen 1 und 6 eingeben: \"\n",
    "    while not validNote:\n",
    "        note = input(inputString)\n",
    "        if re.fullmatch(numFormat, note):\n",
    "            validNote = True\n",
    "            punkteListe.append(float(note))\n",
    "        else:\n",
    "            inputString = f\"Für {student} eine gültige Note eingeben: \"\n",
    "\n",
    "print(studenten)\n",
    "print(punkteListe)"
   ],
   "metadata": {
    "collapsed": false,
    "pycharm": {
     "name": "#%%\n"
    }
   }
  },
  {
   "cell_type": "markdown",
   "source": [
    "#### Aufgabe 27\n",
    "Schreiben Sie Python-Code, der Ihren Namen in eine Zahl verschlüsselt. Hierbei soll jedes Zeichen aus Ihrem Namen mit der ord()-Funktion in einen Dezimalwert aus der ASCII-Tabelle übersetzt werden. Multiplizieren Sie alle diese Dezimalwerte und dividieren Sie das Produkt durch die Summe aller Dezimalwerte. Die Zahl vor dem Komma sei die Verschlüsselungszahl. Geben Sie diese aus."
   ],
   "metadata": {
    "collapsed": false
   }
  },
  {
   "cell_type": "code",
   "execution_count": 2,
   "outputs": [
    {
     "name": "stdout",
     "output_type": "stream",
     "text": [
      "Eingegebener Name: Schmid\n",
      "In Zahlen: \n",
      "S:[83] c:[99] h:[104] m:[109] i:[105] d:[100] \n",
      "Produkt aller Werte: 978053076000\n",
      "978053076000 durch 600 ergibt: \n",
      "1630088460\n"
     ]
    }
   ],
   "source": [
    "name = input(\"Namen eingeben: \")\n",
    "multiplikation = 1\n",
    "summe = 0\n",
    "\n",
    "print(f\"Eingegebener Name: {name}\\nIn Zahlen: \")\n",
    "for letter in name:\n",
    "    # Get Ascii Value\n",
    "    value = ord(letter)\n",
    "\n",
    "    # Get the Values for encoding\n",
    "    multiplikation *= value\n",
    "    summe += value\n",
    "\n",
    "    print(f\"{letter}:[{value}]\", end=\" \")\n",
    "\n",
    "print(f\"\\nProdukt aller Werte: {multiplikation}\\n{multiplikation} durch {summe} ergibt: \")\n",
    "\n",
    "# Print and Encode number\n",
    "print(int(multiplikation/summe))"
   ],
   "metadata": {
    "collapsed": false,
    "pycharm": {
     "name": "#%%\n"
    }
   }
  },
  {
   "cell_type": "markdown",
   "source": [
    "#### Aufgabe 28\n",
    "Schreiben Sie Python-Code, der mit einem regulären Ausdruck überprüft, ob eine eingegebene User ID von der Form\n",
    "(a) 1 bis 3 Grossbuchstaben gefolgt von genau 5 Ziffern ist (2 P.)\n",
    "(b) 2 Grossbuchstaben gefolgt von genau 1 Ziffer ist. (2 P.)"
   ],
   "metadata": {
    "collapsed": false
   }
  },
  {
   "cell_type": "code",
   "execution_count": 4,
   "outputs": [
    {
     "name": "stdout",
     "output_type": "stream",
     "text": [
      "Eingabe: AS12345\n",
      "Bedingung A ist erfüllt!\n"
     ]
    }
   ],
   "source": [
    "id = input(\"Eine ID eingeben: \")\n",
    "\n",
    "# [A-Z]: alle Buchstaben\n",
    "# {1,3}: eins bis 3 Buchststaben\n",
    "# [0-9]: Zahlen bzw. Ziffern von 0 bis 9\n",
    "# {5}: Genau 5 Zeichen\n",
    "validationStringA = \"[A-Z]{1,3}[0-9]{5}\"\n",
    "validationStringB = \"[A-Z]{2}[0-9]{1}\"\n",
    "\n",
    "print(f\"Eingabe: {id}\")\n",
    "# a)\n",
    "if re.fullmatch(validationStringA, id):\n",
    "    print(\"Bedingung A ist erfüllt!\")\n",
    "# b)\n",
    "elif re.fullmatch(validationStringB, id):\n",
    "    print(\"Bedingung B ist erfüllt!\")\n",
    "else:\n",
    "    print(\"Keine der in der Aufgabenstellung genannten Bedingungen ist erfüllt!\")"
   ],
   "metadata": {
    "collapsed": false,
    "pycharm": {
     "name": "#%%\n"
    }
   }
  },
  {
   "cell_type": "markdown",
   "source": [
    "#### Aufgabe 29\n",
    "Gegeben seien 2 Dictionaries D1 und D2. Schreiben Sie Python-Code, der überprüft\n",
    "(a) Ob die beiden Dictionaries D1 und D2 gleich sind. (2 P.)\n",
    "(b) Ob sie sich unterscheiden und eine Liste U mit Unterscheidungsindizes ausgeben. (2 P.)"
   ],
   "metadata": {
    "collapsed": false
   }
  },
  {
   "cell_type": "code",
   "execution_count": null,
   "outputs": [],
   "source": [
    "dict1 = {\"Alex\": 19, \"Andre\": 26, \"Benito\": 21, \"Raphael\": 24, \"Rafael\": 22, \"Zwischenstuck\": 12, \"Zusatz\": 99}\n",
    "dict2 = {\"Alex\": 19, \"Andre\": 26, \"Benito\": 21, \"Raphael\": 25, \"Rafaela\": 22, \"Zwischenstuck\": 12, \"Zusatz1\": 999, \"EchterZusatz\": 666}\n",
    "\n",
    "dict1Length = len(dict1)\n",
    "dict2Length = len(dict2)\n",
    "\n",
    "dict1Keys = list(dict1.keys())\n",
    "dict2Keys = list(dict2.keys())\n",
    "\n",
    "# a)\n",
    "if dict1 == dict2:\n",
    "    print(f\"Die beiden Dicts: \\n{dict1} und \\n{dict2} \\nsind gleich!\")\n",
    "else:\n",
    "    print(f\"Die beiden Dicts sind nicht gleich!\")\n",
    "\n",
    "# b)\n",
    "resultList = []\n",
    "resultListBool = []\n",
    "iterator = 0\n",
    "while iterator < min(dict1Length, dict2Length):\n",
    "    dict1Val = dict1[dict1Keys[iterator]]\n",
    "    dict2Val = dict2[dict2Keys[iterator]]\n",
    "    if dict1Val != dict2Val or dict1Keys[iterator] != dict2Keys[iterator]:\n",
    "        resultList.append(iterator)\n",
    "        resultListBool.append(False)\n",
    "    else:\n",
    "        resultListBool.append(True)\n",
    "    iterator += 1\n",
    "\n",
    "def addIfDictionariesArentSameLength(list1, list2, dictLength, iterator_Val=0):\n",
    "    iterator_Copy = iterator_Val\n",
    "    while iterator_Copy < dictLength:\n",
    "        list1.append(iterator_Copy)\n",
    "        list2.append(False)\n",
    "        iterator_Copy += 1\n",
    "    return list1, list2\n",
    "\n",
    "if dict1Length != dict2Length:\n",
    "    resultList, resultListBool = addIfDictionariesArentSameLength(resultList, resultListBool, max(dict1Length, dict2Length), iterator)\n",
    "\n",
    "print(f\"Bei den Indizen: {resultList} sind die Werte und/oder Schlüssel unterschiedlich!\")\n",
    "print(f\"Die Werte in einer Liste aus Booleans sehen so aus: {resultListBool}\")\n",
    "\n"
   ],
   "metadata": {
    "collapsed": false,
    "pycharm": {
     "name": "#%%\n"
    }
   }
  },
  {
   "cell_type": "code",
   "execution_count": 2,
   "outputs": [
    {
     "name": "stdout",
     "output_type": "stream",
     "text": [
      "Die beiden Dicts sind nicht gleich!\n",
      "[True, True, True, False, False, True, False, False, False, False]\n"
     ]
    }
   ],
   "source": [
    "# Nicht zu empfehlen, da one liner nicht gut wartbar sind!!\n",
    "\n",
    "d1 = {\"Alex\": 19, \"Andre\": 26, \"Benito\": 21, \"Raphael\": 24, \"Rafael\": 22, \"Zwischenstuck\": 12, \"Zusatz\": 99}\n",
    "d2 = {\"Alex\": 19, \"Andre\": 26, \"Benito\": 21, \"Raphael\": 25, \"Rafaela\": 22, \"Zwischenstuck\": 12, \"Zusatz1\": 999, \"EchterZusatz\": 666}\n",
    "\n",
    "# a)\n",
    "print(f\"Die beiden Dicts: \\n{d1} und \\n{d2} \\nsind gleich!\" if d1 == d2 else \"Die beiden Dicts sind nicht gleich!\")\n",
    "\n",
    "# b)\n",
    "print([(key in list(d1.keys())) and (key in list(d2.keys())) and (d1[key] == d2[key]) for key in list(dict.fromkeys(list(d1.keys()) + list(d2.keys())))])\n"
   ],
   "metadata": {
    "collapsed": false,
    "pycharm": {
     "name": "#%%\n"
    }
   }
  },
  {
   "cell_type": "markdown",
   "source": [
    "#### Aufgabe 30\n",
    "Aufgabe 30 – (Schwierige Aufgabe) Sortierung und Mean-Squared Error\n",
    "Gegeben sei eine Liste L mit Floating Point Zahlen. Schreiben Sie Python-Code, um die Liste L in\n",
    "aufsteigender Reihenfolge in eine sortierte Liste S zu überführen. Beide Listen haben die Länge N.\n",
    "Berechnen Sie nach der Sortierung den sogenannten Mean-Squared Error (MSE) zwischen der Originalliste\n",
    "L und der sortierten Liste S. Die Elemente der Liste L seien hierbei mit y bezeichnet und die der sortierten\n",
    "Liste S mit y-Dach. (4 P.)"
   ],
   "metadata": {
    "collapsed": false
   }
  },
  {
   "cell_type": "code",
   "execution_count": 5,
   "outputs": [
    {
     "name": "stdout",
     "output_type": "stream",
     "text": [
      "Funktion von sklearn: 10552.996199999998\n",
      "Ohne Funktion: 10552.996199999996\n"
     ]
    }
   ],
   "source": [
    "listeL = [11.1, 10.4, 320.4, 1.2, 1.3, 1.4, 1.5, 1.6, 1.7, 1.8, 1.9, 2.0, 2.1, 6.9, 4.2, 1.78, 9.11, 3.14, 6.66]\n",
    "listeS = sorted(listeL)\n",
    "\n",
    "# Mit Funktion\n",
    "print(f\"Funktion von sklearn: {mean_squared_error(listeL, listeS)}\")\n",
    "\n",
    "# Ohne Funtion, also nach Formel\n",
    "mse = 0\n",
    "N = len(listeL)\n",
    "for i in range(N):\n",
    "    mse += (listeL[i] - listeS[i]) ** 2\n",
    "\n",
    "mse = 1 / N * mse\n",
    "print(f\"Ohne Funktion: {mse}\")"
   ],
   "metadata": {
    "collapsed": false,
    "pycharm": {
     "name": "#%%\n"
    }
   }
  }
 ],
 "metadata": {
  "kernelspec": {
   "display_name": "Python 3",
   "language": "python",
   "name": "python3"
  },
  "language_info": {
   "codemirror_mode": {
    "name": "ipython",
    "version": 2
   },
   "file_extension": ".py",
   "mimetype": "text/x-python",
   "name": "python",
   "nbconvert_exporter": "python",
   "pygments_lexer": "ipython2",
   "version": "2.7.6"
  }
 },
 "nbformat": 4,
 "nbformat_minor": 0
}