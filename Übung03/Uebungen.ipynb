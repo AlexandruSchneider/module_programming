{
 "cells": [
  {
   "cell_type": "markdown",
   "metadata": {
    "collapsed": true,
    "pycharm": {
     "name": "#%% md\n"
    }
   },
   "source": [
    "# Aufgabenblatt 3\n",
    "Woche 3"
   ]
  },
  {
   "cell_type": "markdown",
   "source": [
    "#### Aufgabe 11\n",
    "Schreiben Sie ein Programm, das zwei Fliesskommazahlen einliest,\n",
    "beide miteinander vergleicht, die kleinere in eine Variable minimum schreibt\n",
    "und die grössere in eine Variable maximum.\n",
    "\n",
    "Finden Sie eine gute Code-Lösung für den Fall,\n",
    "dass die beiden Zahlen gleich gross sind. (3 P.)"
   ],
   "metadata": {
    "collapsed": false,
    "pycharm": {
     "name": "#%% md\n"
    }
   }
  },
  {
   "cell_type": "code",
   "execution_count": 2,
   "outputs": [],
   "source": [
    "import random"
   ],
   "metadata": {
    "collapsed": false,
    "pycharm": {
     "name": "#%%\n"
    }
   }
  },
  {
   "cell_type": "code",
   "execution_count": null,
   "outputs": [],
   "source": [
    "zahl1 = float(input(\"1. Zahl: \"))\n",
    "zahl2 = float(input(\"2. Zahl: \"))\n",
    "\n",
    "minimum = 0.0\n",
    "maximum = 0.0\n",
    "\n",
    "if zahl1 < zahl2:\n",
    "    minimum = zahl1\n",
    "    maximum = zahl2\n",
    "    print(\"Die Variable Minimum: \" + str(minimum) + \" (1. Zahl)\")\n",
    "    print(\"Die Variable Maximum: \" + str(maximum) + \" (2. Zahl)\")\n",
    "\n",
    "if zahl1 > zahl2:\n",
    "    minimum = zahl2\n",
    "    maximum = zahl1\n",
    "    print(\"Die Variable Minimum: \" + str(minimum) + \" (2. Zahl)\")\n",
    "    print(\"Die Variable Maximum: \" + str(maximum) + \" (1. Zahl)\")\n",
    "\n",
    "if zahl1 == zahl2:\n",
    "    print(\"Die beiden Zahlen sind gleichgross: \\n\" + \"1. Zahl: \" + str(zahl1) + \"\\n2. Zahl: \"+ str(zahl2))"
   ],
   "metadata": {
    "collapsed": false,
    "pycharm": {
     "name": "#%%\n"
    }
   }
  },
  {
   "cell_type": "markdown",
   "source": [
    "#### Aufgabe 12\n",
    "Eine ganze Zahl (Integer) soll eingegeben werden.\n",
    "Zusätzlich soll eine weitere ganze Zahl zwischen 0 und 100 zufällig gezogen werden.\n",
    "Vergleichen Sie die Werte der eingegebenen Zahl und der gezogenen Zahl und\n",
    "geben Sie Gewonnen aus, wenn die beiden Zahlen übereinstimmen, ansonsten Verloren. (4 P.)"
   ],
   "metadata": {
    "collapsed": false
   }
  },
  {
   "cell_type": "code",
   "execution_count": 3,
   "outputs": [
    {
     "name": "stdout",
     "output_type": "stream",
     "text": [
      "Eingegebene Zahl: 12\n",
      "Zufallszahl: 83\n",
      "Verloren\n"
     ]
    }
   ],
   "source": [
    "inputInt = int(input(\"Geben Sie eine ganze Zahl ein: \"))\n",
    "randomInt = random.randint(0, 100)\n",
    "\n",
    "print(\"Eingegebene Zahl: \" + str(inputInt))\n",
    "print(\"Zufallszahl: \" + str(randomInt))\n",
    "if inputInt == randomInt:\n",
    "    print(\"Gewonnen!\")\n",
    "else:\n",
    "    print(\"Verloren\")"
   ],
   "metadata": {
    "collapsed": false,
    "pycharm": {
     "name": "#%%\n"
    }
   }
  },
  {
   "cell_type": "markdown",
   "source": [
    "#### Aufgabe 13\n",
    "Ihre folgende Aufgabe soll es ein,\n",
    "5 Würfelvariablen zufällig Werte zwischen 1 und 6 zuzuweisen\n",
    "und diese Werte alle auszugeben. (1 P.)\n",
    "Schreiben Sie ein Programm, das überprüft, ob:\n",
    "(a) Alle 5 Werte gleich sind. (1 P.)\n",
    "(b) Alle 5 Werte unterschiedlich sind (2 P.)\n",
    "(c) Die Summe der 5 Werte grösser als 20 und kleiner als 25 ist. (1 P.)"
   ],
   "metadata": {
    "collapsed": false
   }
  },
  {
   "cell_type": "code",
   "execution_count": 15,
   "outputs": [
    {
     "name": "stdout",
     "output_type": "stream",
     "text": [
      "1. Zahl: 4\n",
      "2. Zahl: 6\n",
      "3. Zahl: 3\n",
      "4. Zahl: 1\n",
      "5. Zahl: 4\n",
      "Die Zahlen entsprechen keiner der Kriterien in der Aufgabenstellung\n",
      "Die Summe ist nicht zwischen 20 und 25\n"
     ]
    }
   ],
   "source": [
    "# Teil 1: Zuweisung Variabeln\n",
    "var1 = random.randint(1, 6)\n",
    "var2 = random.randint(1, 6)\n",
    "var3 = random.randint(1, 6)\n",
    "var4 = random.randint(1, 6)\n",
    "var5 = random.randint(1, 6)\n",
    "\n",
    "print(\"1. Zahl: \" + str(var1))\n",
    "print(\"2. Zahl: \" + str(var2))\n",
    "print(\"3. Zahl: \" + str(var3))\n",
    "print(\"4. Zahl: \" + str(var4))\n",
    "print(\"5. Zahl: \" + str(var5))\n",
    "\n",
    "# Teil 2: a)\n",
    "if var1 == var2 == var3 == var4 == var5:\n",
    "    print(\"Alle Variabeln haben die gleiche Zahl drin!\")\n",
    "\n",
    "# Teil 3: b)\n",
    "elif var1 != var2 and var1 != var3 and var1 != var4 and var1 != var5 and var2 != var3 and var2 != var4 and var2 != var5 and var3 != var4 and var3 != var5 and var4 != var5:\n",
    "    print(\"Alle Variabeln sind unterschiedlich!\")\n",
    "\n",
    "else:\n",
    "    print(\"Die Zahlen entsprechen keiner der Kriterien in der Aufgabenstellung\")\n",
    "\n",
    "# Teil 4: c)\n",
    "summe = var1 + var2 + var3 + var4 + var5\n",
    "if 20 < summe < 25:\n",
    "    print(\"Die summe der Zahlen: \")\n",
    "    print(var1)\n",
    "    print(var2)\n",
    "    print(var3)\n",
    "    print(var4)\n",
    "    print(var5)\n",
    "    print(\"ist: \" + summe)\n",
    "else:\n",
    "    print(\"Die Summe ist nicht zwischen 20 und 25\")"
   ],
   "metadata": {
    "collapsed": false,
    "pycharm": {
     "name": "#%%\n"
    }
   }
  },
  {
   "cell_type": "markdown",
   "source": [
    "#### Aufgabe 14\n",
    "Zu was werten die folgenden Ausdrücke aus (im Falle, dass Sie syntaktisch korrekt sind)?\n",
    "Begründen Sie Ihre Antwort kurz.\n",
    "<br>(a) True and False and True or False (1 P.)\n",
    "<br>(b) (3 < 3.0) or (not(not(True or False))) (1 P.)\n",
    "<br>(c) 3 != 4 != 5 != 6 != 3 (1 P.)\n",
    "<br>(d) <br>a = 3<br>\n",
    "b = 4<br>\n",
    "c = 5<br>\n",
    "print(a**2 + b**2 == c**2) (1 P.)"
   ],
   "metadata": {
    "collapsed": false
   }
  },
  {
   "cell_type": "markdown",
   "source": [
    "a)"
   ],
   "metadata": {
    "collapsed": false,
    "pycharm": {
     "name": "#%% md\n"
    }
   }
  },
  {
   "cell_type": "code",
   "execution_count": 10,
   "outputs": [
    {
     "name": "stdout",
     "output_type": "stream",
     "text": [
      "False\n",
      "False\n"
     ]
    }
   ],
   "source": [
    "#Der erste Teil ist schon \"False\" da Wahr und Falsch nicht Wahr sind\n",
    "print(True and False and True or False)\n",
    "print(3 < 3.0)"
   ],
   "metadata": {
    "collapsed": false,
    "pycharm": {
     "name": "#%%\n"
    }
   }
  },
  {
   "cell_type": "markdown",
   "source": [
    "b)"
   ],
   "metadata": {
    "collapsed": false
   }
  },
  {
   "cell_type": "code",
   "execution_count": 6,
   "outputs": [
    {
     "name": "stdout",
     "output_type": "stream",
     "text": [
      "True\n"
     ]
    }
   ],
   "source": [
    "# 3 < 3.0 ist   false\n",
    "# or\n",
    "# not not       negiert sich selber\n",
    "# True or False true\n",
    "print((3 < 3.0) or (not(not(True or False))))"
   ],
   "metadata": {
    "collapsed": false,
    "pycharm": {
     "name": "#%%\n"
    }
   }
  },
  {
   "cell_type": "markdown",
   "source": [
    "c)"
   ],
   "metadata": {
    "collapsed": false,
    "pycharm": {
     "name": "#%% md\n"
    }
   }
  },
  {
   "cell_type": "code",
   "execution_count": 11,
   "outputs": [
    {
     "name": "stdout",
     "output_type": "stream",
     "text": [
      "True\n"
     ]
    }
   ],
   "source": [
    "# 3 ist ungleich 4\n",
    "# 4 ist ungleich 5\n",
    "# 5 ist ungleich 6\n",
    "# 6 ist ungleich 3\n",
    "print(3 != 4 != 5 != 6 != 3)"
   ],
   "metadata": {
    "collapsed": false,
    "pycharm": {
     "name": "#%%\n"
    }
   }
  },
  {
   "cell_type": "markdown",
   "source": [
    "d)"
   ],
   "metadata": {
    "collapsed": false
   }
  },
  {
   "cell_type": "code",
   "execution_count": 12,
   "outputs": [
    {
     "name": "stdout",
     "output_type": "stream",
     "text": [
      "True\n"
     ]
    }
   ],
   "source": [
    "a = 3\n",
    "b = 4\n",
    "c = 5\n",
    "# 3*3 = 9\n",
    "# 4*4 = 16\n",
    "# Summe = 25\n",
    "# 5*5 = 25\n",
    "print(a**2 + b**2 == c**2)"
   ],
   "metadata": {
    "collapsed": false,
    "pycharm": {
     "name": "#%%\n"
    }
   }
  },
  {
   "cell_type": "markdown",
   "source": [
    "#### Aufgabe 15\n",
    "Schreiben Sie ein Programm, das von einer eingegebenen Integerzahl grösser 7 und\n",
    "kleiner gleich 100 testet, ob diese eine Primzahl ist oder nicht.\n",
    "Eine Zahl zwischen 8 und 100 ist eine Primzahl genau dann,\n",
    "wenn sie nicht durch 2, 3, 5 und 7 teilbar ist."
   ],
   "metadata": {
    "collapsed": false
   }
  },
  {
   "cell_type": "code",
   "execution_count": 32,
   "outputs": [
    {
     "name": "stdout",
     "output_type": "stream",
     "text": [
      "9 ist durch 3 teilbar!\n"
     ]
    }
   ],
   "source": [
    "#Variante 1: Es werden 5 if in einander geschachtelt:\n",
    "# Vorteil dieser Variante: Es kann für jeden Fall eine eigene Folge ausgegeben werden.\n",
    "zahlInt = int(input(\"Eine Ganzzahl zwischen 7 und 101\"))\n",
    "\n",
    "if 7 < zahlInt <= 100:\n",
    "    if zahlInt % 2 != 0:\n",
    "        if zahlInt % 3 != 0:\n",
    "            if zahlInt % 5 != 0:\n",
    "                if zahlInt % 7 != 0:\n",
    "                    print(str(zahlInt) + \" ist eine Primzahl!\")\n",
    "                else:\n",
    "                    print(str(zahlInt) + \" ist durch 7 teilbar!\")\n",
    "            else:\n",
    "                print(str(zahlInt) + \" ist durch 5 teilbar!\")\n",
    "        else:\n",
    "            print(str(zahlInt) + \" ist durch 3 teilbar!\")\n",
    "    else:\n",
    "        print(str(zahlInt) + \" ist durch 2 teilbar!\")\n",
    "else:\n",
    "    print(\"Die Zahl \" + str(zahlInt) + \" ist nicht zwischen 7 und 100\")"
   ],
   "metadata": {
    "collapsed": false,
    "pycharm": {
     "name": "#%%\n"
    }
   }
  },
  {
   "cell_type": "code",
   "execution_count": 33,
   "outputs": [
    {
     "name": "stdout",
     "output_type": "stream",
     "text": [
      "Die Zahl 9 ist keine Primzahl!\n"
     ]
    }
   ],
   "source": [
    "#Variante 2: Es wird zuerst geprüft ob die Zahl zwischen 7 und 101 ist und\n",
    "# dann in einem if alles abgefragt (mit and-Operator)\n",
    "zahlInt = int(input(\"Eine Ganzzahl zwischen 7 und 101\"))\n",
    "\n",
    "if 7 < zahlInt <= 100:\n",
    "    if zahlInt % 2 != 0 and zahlInt % 3 != 0 and zahlInt % 5 != 0 and zahlInt % 7 != 0:\n",
    "        print(str(zahlInt) + \" ist eine Primzahl!\")\n",
    "    else:\n",
    "        print(\"Die Zahl \" + str(zahlInt) + \" ist keine Primzahl!\")\n",
    "else:\n",
    "    print(\"Die Zahl \" + str(zahlInt) + \" ist nicht zwischen 7 und 100\")"
   ],
   "metadata": {
    "collapsed": false,
    "pycharm": {
     "name": "#%%\n"
    }
   }
  }
 ],
 "metadata": {
  "kernelspec": {
   "display_name": "Python 3",
   "language": "python",
   "name": "python3"
  },
  "language_info": {
   "codemirror_mode": {
    "name": "ipython",
    "version": 2
   },
   "file_extension": ".py",
   "mimetype": "text/x-python",
   "name": "python",
   "nbconvert_exporter": "python",
   "pygments_lexer": "ipython2",
   "version": "2.7.6"
  }
 },
 "nbformat": 4,
 "nbformat_minor": 0
}