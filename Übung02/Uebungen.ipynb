{
 "cells": [
  {
   "cell_type": "markdown",
   "metadata": {
    "collapsed": true,
    "pycharm": {
     "name": "#%% md\n"
    }
   },
   "source": [
    "# Übungsblatt 2\n",
    "\n",
    "Das ist das Übungsblatt 2 mit den Aufgaben der zweiten Woche"
   ],
   "outputs": [],
   "execution_count": 1
  },
  {
   "cell_type": "markdown",
   "source": [
    "#### Aufgabe 6"
   ],
   "metadata": {
    "collapsed": false,
    "pycharm": {
     "name": "#%% md\n"
    }
   }
  },
  {
   "cell_type": "code",
   "execution_count": 6,
   "outputs": [
    {
     "name": "stdout",
     "output_type": "stream",
     "text": [
      "950400\n"
     ]
    }
   ],
   "source": [
    "\"\"\"\n",
    "Die Variabel days wird auf 11 gesetzt\n",
    "danach werden die 11 tage auf stunden gerechnet, also mal 24\n",
    "diese stunden, werden mit dem Faktore 60 zu Stunden\n",
    "und dann wieder mit dem Faktor 60 zu Sekunden umgerechnet.\n",
    "\n",
    "Zum Ende wird die Anzahl an Sekunden in 11 Tagen in die Konsole ausgegeben\n",
    "\"\"\"\n",
    "days = 11\n",
    "hours = days * 24\n",
    "minutes = hours * 60\n",
    "seconds = minutes * 60\n",
    "print(seconds)"
   ],
   "metadata": {
    "collapsed": false,
    "pycharm": {
     "name": "#%%\n"
    }
   }
  },
  {
   "cell_type": "markdown",
   "source": [
    "#### Aufgabe 7 – Methoden für Zeichenketten\n",
    "Werten Sie folgenden Code aus. Wenn er Syntaxfehler enthält, so beschreiben Sie diese:"
   ],
   "metadata": {
    "collapsed": false,
    "pycharm": {
     "name": "#%% md\n"
    }
   }
  },
  {
   "cell_type": "markdown",
   "source": [
    "a)"
   ],
   "metadata": {
    "collapsed": false,
    "pycharm": {
     "name": "#%% md\n"
    }
   }
  },
  {
   "cell_type": "code",
   "execution_count": 8,
   "outputs": [
    {
     "name": "stdout",
     "output_type": "stream",
     "text": [
      "mariannmariannmaria\n"
     ]
    }
   ],
   "source": [
    "astring = \"annannannannanna\"\n",
    "print(astring.replace(\"anna\",\"maria\"))"
   ],
   "metadata": {
    "collapsed": false,
    "pycharm": {
     "name": "#%%\n"
    }
   }
  },
  {
   "cell_type": "markdown",
   "source": [
    "b)"
   ],
   "metadata": {
    "collapsed": false,
    "pycharm": {
     "name": "#%% md\n"
    }
   }
  },
  {
   "cell_type": "code",
   "execution_count": 7,
   "outputs": [
    {
     "name": "stdout",
     "output_type": "stream",
     "text": [
      "TRUE\n"
     ]
    }
   ],
   "source": [
    "bstring = \"\"+str(19 == (4+7)*3 -14)\n",
    "print(bstring.upper())"
   ],
   "metadata": {
    "collapsed": false,
    "pycharm": {
     "name": "#%%\n"
    }
   }
  },
  {
   "cell_type": "markdown",
   "source": [
    "c)"
   ],
   "metadata": {
    "collapsed": false
   }
  },
  {
   "cell_type": "code",
   "execution_count": 6,
   "outputs": [
    {
     "name": "stdout",
     "output_type": "stream",
     "text": [
      "cxncxncxncxncxnb\n"
     ]
    }
   ],
   "source": [
    "astring = \"annannannannanna\"\n",
    "print(astring.replace(\"a\",\"b\").replace(\"bn\",\"cx\"))"
   ],
   "metadata": {
    "collapsed": false,
    "pycharm": {
     "name": "#%%\n"
    }
   }
  },
  {
   "cell_type": "markdown",
   "source": [
    "d)"
   ],
   "metadata": {
    "collapsed": false
   }
  },
  {
   "cell_type": "code",
   "execution_count": 5,
   "outputs": [
    {
     "name": "stdout",
     "output_type": "stream",
     "text": [
      "True\n"
     ]
    }
   ],
   "source": [
    "cstring = \"Peter\"\n",
    "dstring = \"Pferd\"\n",
    "print(cstring.index(\"e\")==dstring.index(\"f\"))"
   ],
   "metadata": {
    "collapsed": false,
    "pycharm": {
     "name": "#%%\n"
    }
   }
  },
  {
   "cell_type": "markdown",
   "source": [
    "#### Aufgabe 8\n",
    "Variabeln für Methoden und Strings"
   ],
   "metadata": {
    "collapsed": false
   }
  },
  {
   "cell_type": "code",
   "execution_count": 7,
   "outputs": [
    {
     "name": "stdout",
     "output_type": "stream",
     "text": [
      "Alexandru Schneider\n",
      "ALEXANDRU SCHNEIDER\n"
     ]
    }
   ],
   "source": [
    "vorname  = \"Alexandru\"\n",
    "nachname = \"Schneider\"\n",
    "name = vorname + \" \" + nachname\n",
    "upperName = name.upper()\n",
    "# Ausgabe in der Konsole\n",
    "print(name)\n",
    "print(upperName)"
   ],
   "metadata": {
    "collapsed": false,
    "pycharm": {
     "name": "#%%\n"
    }
   }
  },
  {
   "cell_type": "markdown",
   "source": [
    "#### Aufgabe 9\n",
    "Zwischen Zeichenketten und Zahlen konvertieren"
   ],
   "metadata": {
    "collapsed": false
   }
  },
  {
   "cell_type": "markdown",
   "source": [
    "a)"
   ],
   "metadata": {
    "collapsed": false,
    "pycharm": {
     "name": "#%% md\n"
    }
   }
  },
  {
   "cell_type": "code",
   "execution_count": 12,
   "outputs": [
    {
     "name": "stdout",
     "output_type": "stream",
     "text": [
      "3.1415\n"
     ]
    }
   ],
   "source": [
    "print(float(\"3.1415\"))\n",
    "# Der String \"3.1415\" wird in einen float umgewandelt und in die Konsole ausgegeben"
   ],
   "metadata": {
    "collapsed": false,
    "pycharm": {
     "name": "#%%\n"
    }
   }
  },
  {
   "cell_type": "markdown",
   "source": [
    "b)"
   ],
   "metadata": {
    "collapsed": false,
    "pycharm": {
     "name": "#%% md\n"
    }
   }
  },
  {
   "cell_type": "code",
   "execution_count": 13,
   "outputs": [
    {
     "ename": "TypeError",
     "evalue": "can only concatenate str (not \"int\") to str",
     "output_type": "error",
     "traceback": [
      "\u001B[1;31m---------------------------------------------------------------------------\u001B[0m",
      "\u001B[1;31mTypeError\u001B[0m                                 Traceback (most recent call last)",
      "\u001B[1;32mC:\\Users\\ALEXSC~1\\AppData\\Local\\Temp/ipykernel_13340/4233339179.py\u001B[0m in \u001B[0;36m<module>\u001B[1;34m\u001B[0m\n\u001B[0;32m      1\u001B[0m \u001B[0mtest\u001B[0m \u001B[1;33m=\u001B[0m \u001B[1;36m100\u001B[0m \u001B[1;31m# Variable 'test' wird der Integer 100 zugewiesen\u001B[0m\u001B[1;33m\u001B[0m\u001B[1;33m\u001B[0m\u001B[0m\n\u001B[1;32m----> 2\u001B[1;33m \u001B[0mtest\u001B[0m \u001B[1;33m=\u001B[0m \u001B[1;34m\"\"\u001B[0m \u001B[1;33m+\u001B[0m \u001B[0mtest\u001B[0m \u001B[1;31m# Die Variable test wird mit dem String \"\" überschrieben und möchte einen integer (von schritt 1) hinzufügen --> TypeError\u001B[0m\u001B[1;33m\u001B[0m\u001B[1;33m\u001B[0m\u001B[0m\n\u001B[0m\u001B[0;32m      3\u001B[0m \u001B[0mprint\u001B[0m\u001B[1;33m(\u001B[0m\u001B[0mtest\u001B[0m \u001B[1;33m*\u001B[0m \u001B[1;36m2\u001B[0m\u001B[1;33m)\u001B[0m \u001B[1;31m# Wird nichtmehr ausgeführt\u001B[0m\u001B[1;33m\u001B[0m\u001B[1;33m\u001B[0m\u001B[0m\n\u001B[0;32m      4\u001B[0m \u001B[1;33m\u001B[0m\u001B[0m\n",
      "\u001B[1;31mTypeError\u001B[0m: can only concatenate str (not \"int\") to str"
     ]
    }
   ],
   "source": [
    "test = 100 # Variable 'test' wird der Integer 100 zugewiesen\n",
    "test = \"\" + test # Die Variable test wird mit dem String \"\" überschrieben und möchte einen integer (von schritt 1) hinzufügen --> TypeError\n",
    "print(test * 2) # Wird nichtmehr ausgeführt"
   ],
   "metadata": {
    "collapsed": false,
    "pycharm": {
     "name": "#%%\n"
    }
   }
  },
  {
   "cell_type": "markdown",
   "source": [
    "c)"
   ],
   "metadata": {
    "collapsed": false
   }
  },
  {
   "cell_type": "code",
   "execution_count": null,
   "outputs": [],
   "source": [
    "xyz = \"7\" # Variabel 'xyz' kriegt den String \"7\"\n",
    "pot = 3**int(xyz) # Es wird drei hoch 7 gerechnet weil mit der funktion int(var) der String zu einem Integer konventiert wird\n",
    "print(pot) # Das Resultat der Potenzierung wird ausgegeben"
   ],
   "metadata": {
    "collapsed": false,
    "pycharm": {
     "name": "#%%\n"
    }
   }
  },
  {
   "cell_type": "markdown",
   "source": [
    "d)"
   ],
   "metadata": {
    "collapsed": false
   }
  },
  {
   "cell_type": "code",
   "execution_count": null,
   "outputs": [],
   "source": [
    "test2 = \"100\" # Variabel 'test2' erhält den String \"100\"\n",
    "test2 = \"1\" + test2 # Der String \"1\" wird mit dem letzen wert der Variable 'test2' zusammengehängt: \"1\" + \"100\" = \"1100\"\n",
    "print(int(test2)*5) # Damit mit dem String gerechnet werden kann muss dieser umgewandelt werden. Hier wird in einen Integer umgewandelt und mit 5 multipliziert, was das Resultat 5500 ergibt"
   ],
   "metadata": {
    "collapsed": false,
    "pycharm": {
     "name": "#%%\n"
    }
   }
  },
  {
   "cell_type": "markdown",
   "source": [
    "#### Aufgabe 10\n",
    "Eingabe und Ausgabe"
   ],
   "metadata": {
    "collapsed": false
   }
  },
  {
   "cell_type": "code",
   "execution_count": 6,
   "outputs": [
    {
     "name": "stdout",
     "output_type": "stream",
     "text": [
      "Ziffer darf laut Aufgabenstellung nur ein Zeichen lang sein.\n"
     ]
    }
   ],
   "source": [
    "# Variante 1: Aufgabenstellung (also genau eine Ziffer)\n",
    "string = input(\"Bitte einen beliebigen String eingeben: \")\n",
    "ziffer = input(\"Bitte eine beliebige Ziffer eingeben: \")\n",
    "result = \"Ziffer darf laut Aufgabenstellung nur ein Zeichen lang sein.\"\n",
    "\n",
    "if len(ziffer) == 1:\n",
    "    result = \"\\nGewählter Srting:\\t\" \\\n",
    "             +  \"'\" + string + \"'\" \\\n",
    "             + \"\\nGewählte Ziffer:\\t\" \\\n",
    "             + \"'\" + ziffer + \"'\" \\\n",
    "             + \"\\n\" + str(string.split(ziffer))\n",
    "print(result)"
   ],
   "metadata": {
    "collapsed": false,
    "pycharm": {
     "name": "#%%\n"
    }
   }
  },
  {
   "cell_type": "code",
   "execution_count": 2,
   "outputs": [
    {
     "name": "stdout",
     "output_type": "stream",
     "text": [
      "Gewählter Srting:\t'ich heisse alec'\n",
      "Gewählte Ziffer:\t''\n",
      "['ich', 'heisse', 'alec']\n"
     ]
    }
   ],
   "source": [
    "# Variante 2: Falls eine leere Ziffer auch akzeptiert wird. (Also nicht Aufgabenstellung)\n",
    "string = input(\"Bitte einen beliebigen String eingeben:\")\n",
    "ziffer = input(\"Bitte eine beliebige Ziffer eingeben:\")\n",
    "result = \"Ziffer darf laut Aufgabenstellung nur ein Zeichen lang sein\"\n",
    "\n",
    "# Falls die Ziffer nicht 1 charakter lang oder leer ist\n",
    "if len(ziffer) == 1 or ziffer == '':\n",
    "    result = \"Gewählter Srting:\\t\" \\\n",
    "             +  \"'\" + string + \"'\" \\\n",
    "             + \"\\nGewählte Ziffer:\\t\" \\\n",
    "             + \"'\" + ziffer + \"'\"\n",
    "    if ziffer == \"\":\n",
    "        result += \"\\n\" + str(string.split())\n",
    "    else:\n",
    "        result += \"\\n\" + str(string.split(ziffer))\n",
    "print(result)"
   ],
   "metadata": {
    "collapsed": false,
    "pycharm": {
     "name": "#%%\n"
    }
   }
  },
  {
   "cell_type": "code",
   "execution_count": 9,
   "outputs": [
    {
     "name": "stdout",
     "output_type": "stream",
     "text": [
      "['hallo']\n"
     ]
    }
   ],
   "source": [
    "# Variante 3: One-liner\n",
    "# Das ist nicht semantisch schön und sollte allgemein vermieden werden\n",
    "# Lesbarkeit und wartbarkeit, sowie fehleranfälligkeit sind höher\n",
    "\n",
    "print(input(\"String eingeben: \").split(input(\"Ziffer eingeben: \")))"
   ],
   "metadata": {
    "collapsed": false,
    "pycharm": {
     "name": "#%%\n"
    }
   }
  }
 ],
 "metadata": {
  "kernelspec": {
   "name": "pycharm-2d37fa11",
   "language": "python",
   "display_name": "PyCharm (pythonProject1)"
  },
  "language_info": {
   "codemirror_mode": {
    "name": "ipython",
    "version": 2
   },
   "file_extension": ".py",
   "mimetype": "text/x-python",
   "name": "python",
   "nbconvert_exporter": "python",
   "pygments_lexer": "ipython2",
   "version": "2.7.6"
  }
 },
 "nbformat": 4,
 "nbformat_minor": 0
}