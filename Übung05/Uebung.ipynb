{
 "cells": [
  {
   "cell_type": "markdown",
   "metadata": {
    "collapsed": true,
    "pycharm": {
     "name": "#%% md\n"
    }
   },
   "source": [
    "# Aufgabenblatt 5\n",
    "Woche 5"
   ]
  },
  {
   "cell_type": "code",
   "execution_count": 24,
   "metadata": {
    "pycharm": {
     "name": "#%%\n"
    }
   },
   "outputs": [],
   "source": [
    "# imports:\n",
    "import random\n",
    "import time"
   ]
  },
  {
   "cell_type": "markdown",
   "metadata": {},
   "source": [
    "#### Aufgabe 21\n",
    "1 dimensionale Listen:\n",
    "Implementieren Sie Python-Code,\n",
    "der zwei Listen liste1 und liste2 bestehend aus Integer-Zahlen aneinanderfügt und\n",
    "die Ergebnisliste in eine Variable liste3 speichert. Geben Sie liste3 aus."
   ]
  },
  {
   "cell_type": "code",
   "execution_count": 3,
   "metadata": {
    "pycharm": {
     "name": "#%%\n"
    }
   },
   "outputs": [
    {
     "name": "stdout",
     "output_type": "stream",
     "text": [
      "First List: [98, 81, 85, 27, 43, 4, 17, 19, 94, 68] Type: <class 'list'>\n",
      "Secnd List: [94, 27, 73, 47, 44, 58, 29, 88, 46, 69] Type: <class 'list'>\n",
      "Third List: [98, 81, 85, 27, 43, 4, 17, 19, 94, 68, 94, 27, 73, 47, 44, 58, 29, 88, 46, 69] Type: <class 'list'>\n",
      "Forth List: [98, 81, 85, 27, 43, 4, 17, 19, 94, 68, 94, 27, 73, 47, 44, 58, 29, 88, 46, 69] Type: <class 'list'>\n",
      "First List 'extend' Second List: [98, 81, 85, 27, 43, 4, 17, 19, 94, 68, 94, 27, 73, 47, 44, 58, 29, 88, 46, 69]\n"
     ]
    }
   ],
   "source": [
    "minZahl = 0\n",
    "maxZahl = 100\n",
    "anzZahl = 10\n",
    "\n",
    "# Generate List randomly\n",
    "list1 = random.sample(range(minZahl, maxZahl), anzZahl)\n",
    "list2 = random.sample(range(minZahl, maxZahl), anzZahl)\n",
    "\n",
    "print(f\"First List: {list1} Type: {type(list1)}\")\n",
    "print(f\"Secnd List: {list2} Type: {type(list2)}\")\n",
    "\n",
    "# Add list1 and list2 together and save the result in list3\n",
    "list3 = list1 + list2\n",
    "\n",
    "print(f\"Third List: {list3} Type: {type(list3)}\")\n",
    "\n",
    "# Make new list4, because list1 shouldn't be changed\n",
    "# Iterate through list2 and add each value to list4\n",
    "list4 = list1[::]\n",
    "for value in list2:\n",
    "\tlist4.append(value)\n",
    "\n",
    "print(f\"Forth List: {list4} Type: {type(list4)}\")\n",
    "\n",
    "# Make new list5, because list1 shouldn't be changed\n",
    "# Use method: \"extend\" to add Values of list2 to list5 (which has the same values as list1)\n",
    "list5 = list1[::]\n",
    "list5.extend(list2)\n",
    "\n",
    "print(f\"First List 'extend' Second List: {list5}\")"
   ]
  },
  {
   "cell_type": "markdown",
   "metadata": {},
   "source": [
    "#### Aufgabe 22 - Reverse\n",
    "Schreiben Sie Python-Code, der eine beliebige Liste liste bestehend aus Integer-Werten\n",
    "in umgekehrter Reihenfolge in eine neue Variable listeReversed schreibt.\n",
    "Sie sollen keine vordefinierte Funktion dazu verwenden,\n",
    "sondern die Aufgabe mit einer Schleife lösen.\n",
    "\n",
    "Hier habe ich zwei Versionen:\n",
    "1) Lösung ohne Schleife und ohne Methode (Aufgabe22_01.py)\n",
    "2) Lösung mit Schleife und ohne Methode (Aufgabe22_02.py)"
   ]
  },
  {
   "cell_type": "code",
   "execution_count": 5,
   "metadata": {
    "pycharm": {
     "name": "#%%\n"
    }
   },
   "outputs": [
    {
     "name": "stdout",
     "output_type": "stream",
     "text": [
      "Original List: [52, 44, 51, 53, 31] Type: <class 'list'>\n",
      "Reversed List: [31, 53, 51, 44, 52] Type: <class 'list'>\n"
     ]
    }
   ],
   "source": [
    "# Solution 1\n",
    "minZahl = 0\n",
    "maxZahl = 100\n",
    "anzZahl = 5\n",
    "\n",
    "reverse = -1\n",
    "\n",
    "originalList = random.sample(range(minZahl, maxZahl), anzZahl)\n",
    "\n",
    "# Nimm die Originalliste und springe mit -1 durch, also Rückwärts\n",
    "reversedList = originalList[::reverse]\n",
    "\n",
    "print(f\"Original List: {originalList} Type: {type(originalList)}\")\n",
    "print(f\"Reversed List: {reversedList} Type: {type(reversedList)}\")"
   ]
  },
  {
   "cell_type": "code",
   "execution_count": 12,
   "metadata": {
    "pycharm": {
     "name": "#%%\n"
    }
   },
   "outputs": [
    {
     "name": "stdout",
     "output_type": "stream",
     "text": [
      "[25]\n",
      "[44, 25]\n",
      "[12, 44, 25]\n",
      "[59, 12, 44, 25]\n",
      "[80, 59, 12, 44, 25]\n",
      "Original List: [25, 44, 12, 59, 80] Type: <class 'list'>\n",
      "Reversed List: [80, 59, 12, 44, 25] Type: <class 'list'>\n"
     ]
    }
   ],
   "source": [
    "# Solution 2\n",
    "minZahl = 0\n",
    "maxZahl = 100\n",
    "anzZahl = 5\n",
    "\n",
    "# Laut Clean-Code keine \"Magic Numbers\" im Code\n",
    "pos = 0\n",
    "\n",
    "originalList = random.sample(range(minZahl, maxZahl), anzZahl)\n",
    "reversedList =  []\n",
    "\n",
    "for value in originalList:\n",
    "    # Put the Value of the original list in a new list and add the old list after it.\n",
    "    reversedList = [value] + reversedList\n",
    "\n",
    "print(f\"Original List: {originalList} Type: {type(originalList)}\")\n",
    "print(f\"Reversed List: {reversedList} Type: {type(reversedList)}\")"
   ]
  },
  {
   "cell_type": "markdown",
   "metadata": {},
   "source": [
    "#### Aufgabe 23 - Listenvergleiche\n",
    "Die zwei Listen vergleichen: listeA = [1,3,11,23,4,5] und listeB = [4,3,11,23,7,8]\n",
    "a) sind die Listen identisch?\n",
    "b) an welchen Stellen sind die Listen identisch?\n",
    "c) Länge der beiden Listen vergleichen\n",
    "d) Listenelemente sortieren und in sortedList ausgeben"
   ]
  },
  {
   "cell_type": "code",
   "execution_count": 14,
   "metadata": {
    "pycharm": {
     "name": "#%%\n"
    }
   },
   "outputs": [
    {
     "name": "stdout",
     "output_type": "stream",
     "text": [
      "Die Listen: [1, 3, 11, 23, 4, 5] und [4, 3, 11, 23, 7, 8] sind nicht gleich.\n",
      "Die Werte der Listen: \n",
      "[1, 3, 11, 23, 4, 5] und \n",
      "[4, 3, 11, 23, 7, 8] verglichen ergeben: \n",
      "[False, True, True, True, False, False]\n",
      "Die Länge der Liste ist gleich und beträgt: 6\n",
      "Liste A Sortiert: [1, 3, 11, 23, 4, 5] \t\t\t\t----> [1, 3, 4, 5, 11, 23]\n",
      "Liste B Sortiert: [4, 3, 11, 23, 7, 8] \t\t\t\t----> [3, 4, 7, 8, 11, 23]\n",
      "Sorted List: [1, 3, 11, 23, 4, 5, 4, 3, 11, 23, 7, 8] \t----> [1, 3, 3, 4, 4, 5, 7, 8, 11, 11, 23, 23]\n"
     ]
    }
   ],
   "source": [
    "listeA = [1,3,11,23,4,5]\n",
    "listeB = [4,3,11,23,7,8]\n",
    "\n",
    "# a) überprüfung der Listen auf Gleichheit\n",
    "if listeA == listeB:\n",
    "\tprint(f\"Die Listen: {listeA} und {listeB} sind gleich.\")\n",
    "else:\n",
    "    print(f\"Die Listen: {listeA} und {listeB} sind nicht gleich.\")\n",
    "\n",
    "# b) Liste mit boolean Werten falls beide Werte in den Listen gleich sind\n",
    "boolList = []\n",
    "if len(listeA) == len(listeB):\n",
    "\tlistLength = len(listeA)\n",
    "\tfor value in range(listLength):\n",
    "\t\tboolValue = False\n",
    "\t\tif listeA[value] == listeB[value]:\n",
    "\t\t\tboolValue = True\n",
    "\t\tboolList.append(boolValue)\n",
    "\n",
    "print(f\"Die Werte der Listen: \\n{listeA} und \\n{listeB} verglichen ergeben: \\n{boolList}\")\n",
    "\n",
    "# c) Länge der beiden Listen\n",
    "\n",
    "if len(listeA) == len(listeB):\n",
    "\tprint(f\"Die Länge der Liste ist gleich und beträgt: {len(listeA)}\")\n",
    "else:\n",
    "\tprint(f\"Die Länge der Listen ist nicht gleich, der Unterschied beträgt: {abs(len(listeA) - len(listeB))}\")\n",
    "\n",
    "# d) 1) Listen Sortieren\n",
    "listeACopy = listeA[::]\n",
    "listeBCopy = listeB[::]\n",
    "listeACopy.sort()\n",
    "listeBCopy.sort()\n",
    "print(f\"Liste A Sortiert: {listeA} \\t\\t\\t\\t----> {listeACopy}\")\n",
    "print(f\"Liste B Sortiert: {listeB} \\t\\t\\t\\t----> {listeBCopy}\")\n",
    "\n",
    "# d) 2) listen zusammenfügen und sortieren\n",
    "sortedList = listeA + listeB\n",
    "sortedList.sort()\n",
    "print(f\"Sorted List: {listeA + listeB} \\t----> {sortedList}\")"
   ]
  },
  {
   "cell_type": "markdown",
   "metadata": {},
   "source": [
    "#### Aufgabe 24\n",
    "Schreiben Sie Python-Code, der die Eingabe einer Integer-Zahl erlaubt,\n",
    "eine Liste der entsprechenden Länge vom Wert der Integer-Zahl generiert und\n",
    "die Liste mit Zufallszahlen füllt, die von Index 0 bis zum grössten Index immer grösser werden. Geben Sie die generierte Liste aus."
   ]
  },
  {
   "cell_type": "code",
   "execution_count": 9,
   "metadata": {
    "pycharm": {
     "name": "#%%\n"
    }
   },
   "outputs": [
    {
     "name": "stdout",
     "output_type": "stream",
     "text": [
      "Die Zufallsliste unsortiert: \t[86, 91, 10, 82, 52, 34, 80, 33, 79, 77]\n",
      "Die Zufallsliste sortiert: \t[10, 33, 34, 52, 77, 79, 80, 82, 86, 91]\n"
     ]
    }
   ],
   "source": [
    "intInput = int(input(\"Geben sie eine Ganzzahl ein: \"))\n",
    "\n",
    "minZahl = 0\n",
    "zufallsZahl = int(input(\"Wie gross ist der Zufallszahlenbereich? \"))\n",
    "\n",
    "resultList = random.sample(range(minZahl, zufallsZahl), intInput)\n",
    "\n",
    "print(f\"Die Zufallsliste unsortiert: \\t{resultList}\")\n",
    "\n",
    "resultList.sort()\n",
    "\n",
    "print(f\"Die Zufallsliste sortiert: \\t{resultList}\")"
   ]
  },
  {
   "cell_type": "markdown",
   "metadata": {},
   "source": [
    "#### Aufgabe 25 - Sudoku\n",
    "4 Regeln:\n",
    "1. Sudoku muss mehr oder gleich 17 gegebene Zahlen besitzen\n",
    "2. In einer Zeile nur 1-9 und jeweils nur einmal\n",
    "3. In einer Spalte nur 1-9 und jeweils nur einmal\n",
    "4. In jeder 3x3 Box nur 1-9 und jeweils nur einmal"
   ]
  },
  {
   "cell_type": "code",
   "execution_count": 26,
   "metadata": {
    "pycharm": {
     "name": "#%%\n"
    }
   },
   "outputs": [
    {
     "name": "stdout",
     "output_type": "stream",
     "text": [
      "2 5 8 | 7 3 6 | 9 4 1 \n",
      "6 1 9 | 8 2 4 | 3 5 7 \n",
      "4 3 7 | 9 1 5 | 2 6 8 \n",
      "------+-------+------\n",
      "3 9 5 | 2 7 1 | 4 8 6 \n",
      "7 6 2 | 4 9 8 | 1 3 5 \n",
      "8 4 1 | 6 5 3 | 7 2 9 \n",
      "------+-------+------\n",
      "1 8 4 | 3 6 9 | 5 7 2 \n",
      "5 7 6 | 1 4 2 | 8 9 3 \n",
      "9 2 3 | 5 8 7 | 6 1 4 \n",
      "Suduko has been solved in 0.98869\n"
     ]
    }
   ],
   "source": [
    "gridDefault = [[1, 2, 3, 4, 5, 6, 7, 8, 9],\n",
    "               [4, 5, 6, 7, 8, 9, 1, 2, 3],\n",
    "               [7, 8, 9, 1, 2, 3, 4, 5, 6],\n",
    "               [0, 0, 0, 0, 0, 0, 0, 0, 0],\n",
    "               [0, 0, 0, 0, 0, 0, 0, 0, 0],\n",
    "               [0, 0, 0, 0, 0, 0, 0, 0, 0],\n",
    "               [0, 0, 0, 0, 0, 0, 0, 0, 0],\n",
    "               [0, 0, 0, 0, 0, 0, 0, 0, 0],\n",
    "               [0, 0, 0, 0, 0, 0, 0, 0, 0]]\n",
    "\n",
    "\n",
    "# Checks for rule 1 by iterating through every value from left to right, top to bottom\n",
    "def checkNumberOfValues(grid):\n",
    "    counter = 0\n",
    "    for row in grid:\n",
    "        for value in row:\n",
    "            if value != 0:\n",
    "                counter += 1\n",
    "    if counter >= 17:\n",
    "        return True\n",
    "    return False\n",
    "\n",
    "\n",
    "# Checks for rule 2 by setting the row and iterating through all the values in the row and checking for duplicates\n",
    "def checkValueInRow(grid, row, num):\n",
    "    for iterator in range(9):\n",
    "        if grid[row][iterator] == num:\n",
    "            return False\n",
    "    return True\n",
    "\n",
    "\n",
    "# Checks for rule 3 (same principle as in checkValueInRow)\n",
    "def checkValueInCol(grid, col, num):\n",
    "    for x in range(9):\n",
    "        if grid[x][col] == num:\n",
    "            return False\n",
    "    return True\n",
    "\n",
    "\n",
    "# Checks for rule 4 by rounding downwards to 0, 3 or 6 and then checking all the values in that box\n",
    "def checkValueInBox(grid, row, col, num):\n",
    "    # get the start row of a 3x3 box\n",
    "    startRow = row - row % 3\n",
    "\n",
    "    # get the start col of a 3x3 box\n",
    "    startCol = col - col % 3\n",
    "\n",
    "    # Checks every Value in the 3x3 box with the input (duplicate check)\n",
    "    for i in range(3):\n",
    "        for j in range(3):\n",
    "            if grid[i + startRow][j + startCol] == num:\n",
    "                return False\n",
    "    return True\n",
    "\n",
    "\n",
    "# checks all the rules defined at the beginning\n",
    "# returns the methods above (ALL of them have to be true to proceed, since no rules should be broken)\n",
    "def checkRules(grid, row, col, num):\n",
    "    return checkValueInRow(grid, row, num) and checkValueInCol(grid, col, num) and checkValueInBox(grid, row, col, num)\n",
    "\n",
    "\n",
    "def Suduko(grid=gridDefault, row=0, col=0, make=False):\n",
    "    # If a Sudko should be made, then set make, true and the sudoku can be empty (and have multiple solutions)\n",
    "    if make == False and checkNumberOfValues(grid) == False:\n",
    "        return False\n",
    "\n",
    "    # Check if last value is reached (bottom right corner)\n",
    "    if row == 8 and col == 9:\n",
    "        return True\n",
    "\n",
    "    # Reset at the end of \"line\" --> next row and reset col to 0\n",
    "    if col == 9:\n",
    "        row += 1\n",
    "        col = 0\n",
    "\n",
    "    # Search for empty Value (0)\n",
    "    if grid[row][col] > 0:\n",
    "        return Suduko(grid, row, col + 1, make)\n",
    "\n",
    "    # If value is at 0 then try all possibilities\n",
    "    for num in range(1, 10):\n",
    "\n",
    "        # Check if the possible Value is in the rules\n",
    "        if checkRules(grid, row, col, num):\n",
    "\n",
    "            # Set at the empty position to possible correct value\n",
    "            grid[row][col] = num\n",
    "\n",
    "            # start process again\n",
    "            if Suduko(grid, row, col + 1, make):\n",
    "\n",
    "                # return True --> Value has been found\n",
    "                return True\n",
    "\n",
    "        # If the set Value is not in the rules then return until value is in the rules\n",
    "        grid[row][col] = 0\n",
    "\n",
    "    # if you come to the last position but didnt return true before, then sudoku is unsolvable\n",
    "    return False\n",
    "\n",
    "\n",
    "gridTestingSolvable = [[2, 5, 0, 0, 3, 0, 9, 0, 1],\n",
    "                       [0, 1, 0, 0, 0, 4, 0, 0, 0],\n",
    "                       [4, 0, 7, 0, 0, 0, 2, 0, 8],\n",
    "                       [0, 0, 5, 2, 0, 0, 0, 0, 0],\n",
    "                       [0, 0, 0, 0, 9, 8, 1, 0, 0],\n",
    "                       [0, 4, 0, 0, 0, 3, 0, 0, 0],\n",
    "                       [0, 0, 0, 3, 6, 0, 0, 7, 2],\n",
    "                       [0, 7, 0, 0, 0, 0, 0, 0, 3],\n",
    "                       [9, 0, 3, 0, 0, 0, 6, 0, 4]]\n",
    "\n",
    "\n",
    "# Prints the Values as a Sudoku\n",
    "def printSudoku(grid):\n",
    "    for i in range(len(grid)):\n",
    "        if i % 3 == 0 and i != 0:\n",
    "            print(\"------+-------+------\")\n",
    "        for j in range(len(grid[0])):\n",
    "            if j % 3 == 0 and j != 0:\n",
    "                print(\"|\", end=\" \")\n",
    "            print(str(grid[i][j]), end=\" \")\n",
    "        print(\"\")\n",
    "\n",
    "startTime = time.time()\n",
    "if Suduko(gridTestingSolvable):\n",
    "    endTime = time.time()\n",
    "    printSudoku(gridTestingSolvable)\n",
    "    print(f\"Suduko has been solved in {round(endTime - startTime, 5)} seconds\")\n",
    "else:\n",
    "    print(\"Solution does not exist:(\")\n"
   ]
  }
 ],
 "metadata": {
  "kernelspec": {
   "display_name": "Python 3",
   "language": "python",
   "name": "python3"
  },
  "language_info": {
   "codemirror_mode": {
    "name": "ipython",
    "version": 3
   },
   "file_extension": ".py",
   "mimetype": "text/x-python",
   "name": "python",
   "nbconvert_exporter": "python",
   "pygments_lexer": "ipython3",
   "version": "3.8.8"
  }
 },
 "nbformat": 4,
 "nbformat_minor": 1
}